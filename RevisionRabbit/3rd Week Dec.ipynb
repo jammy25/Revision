{
 "cells": [
  {
   "cell_type": "markdown",
   "id": "a7d43602",
   "metadata": {},
   "source": [
    "## Tuesday"
   ]
  },
  {
   "cell_type": "markdown",
   "id": "d3b5626c",
   "metadata": {},
   "source": [
    "### BFS Implementation"
   ]
  },
  {
   "cell_type": "code",
   "execution_count": 8,
   "id": "daf4aab2",
   "metadata": {},
   "outputs": [
    {
     "name": "stdout",
     "output_type": "stream",
     "text": [
      "2 0 3 1 "
     ]
    }
   ],
   "source": [
    "from collections import defaultdict, deque\n",
    "\n",
    "class Graph:\n",
    "    def __init__(self):\n",
    "        self.dict = defaultdict(list)\n",
    "    \n",
    "    def add_edge(self, u, v):\n",
    "        self.dict[u].append(v)\n",
    "        \n",
    "    def bfs(self, s):\n",
    "        visited = [False] * (max(self.dict) + 1)\n",
    "        queue = deque()\n",
    "        queue.append(s)\n",
    "        visited[s] = True\n",
    "        while queue:\n",
    "            v = queue.popleft()\n",
    "            print(v, end = ' ')\n",
    "            for i in self.dict[v]:\n",
    "                if visited[i] == False:\n",
    "                    queue.append(i)\n",
    "                    visited[i] = True        \n",
    "        \n",
    "# Driver Code\n",
    "if __name__ == '__main__':\n",
    "    g = Graph()\n",
    "    g.add_edge(0, 1)\n",
    "    g.add_edge(0, 2)\n",
    "    g.add_edge(1, 2)\n",
    "    g.add_edge(2, 0)\n",
    "    g.add_edge(2, 3)\n",
    "    g.add_edge(3, 3)\n",
    "    \n",
    "    g.bfs(2)"
   ]
  },
  {
   "cell_type": "markdown",
   "id": "f45aead6",
   "metadata": {},
   "source": [
    "### DFS"
   ]
  },
  {
   "cell_type": "code",
   "execution_count": 10,
   "id": "a6429b3f",
   "metadata": {},
   "outputs": [
    {
     "name": "stdout",
     "output_type": "stream",
     "text": [
      "2 0 1 3 "
     ]
    }
   ],
   "source": [
    "from collections import defaultdict\n",
    "\n",
    "class Graph:\n",
    "    def __init__(self):\n",
    "        self.graph = defaultdict(list)\n",
    "        \n",
    "    def add_edge(self, u, v):\n",
    "        self.graph[u].append(v)\n",
    "        \n",
    "    def dfs(self, v, visited = defaultdict(int)):\n",
    "        visited[v] = 1\n",
    "        print(v, end = ' ')\n",
    "        for i in self.graph[v]:\n",
    "            if not visited[i]:\n",
    "                self.dfs(i, visited)\n",
    "    \n",
    "# Driver Code\n",
    "if __name__ == '__main__':\n",
    "    g = Graph()\n",
    "    g.add_edge(0, 1)\n",
    "    g.add_edge(0, 2)\n",
    "    g.add_edge(1, 2)\n",
    "    g.add_edge(2, 0)\n",
    "    g.add_edge(2, 3)\n",
    "    g.add_edge(3, 3)\n",
    "    \n",
    "    g.dfs(2)"
   ]
  },
  {
   "cell_type": "markdown",
   "id": "4231eaa8",
   "metadata": {},
   "source": [
    "### Detect Cycle in an Undirected Graph"
   ]
  },
  {
   "cell_type": "code",
   "execution_count": 1,
   "id": "56b419e4",
   "metadata": {},
   "outputs": [
    {
     "name": "stdout",
     "output_type": "stream",
     "text": [
      "Does not contains cycle\n"
     ]
    }
   ],
   "source": [
    "from collections import defaultdict\n",
    "\n",
    "class Graph:\n",
    "    def __init__(self, n):\n",
    "        self.graph = defaultdict(list)\n",
    "        self.n = n\n",
    "        \n",
    "    def add_edge(self, u, v):\n",
    "        self.graph[u].append(v)\n",
    "        self.graph[v].append(u)\n",
    "        \n",
    "    def dfs(self, u, parent, visited):\n",
    "        visited.add(u)\n",
    "        for v in self.graph[u]:\n",
    "            if (v == parent):\n",
    "                continue\n",
    "            if (v in visited):\n",
    "                return True\n",
    "            if self.dfs(v, u, visited):\n",
    "                return True\n",
    "        return False\n",
    "    \n",
    "    def is_cyclic(self):\n",
    "        visited = set()\n",
    "        for u in self.graph:\n",
    "            if u in visited:\n",
    "                continue\n",
    "            if self.dfs(u, None, visited):\n",
    "                return True\n",
    "        return False\n",
    "        \n",
    "        \n",
    "# Driver Code\n",
    "if __name__ == '__main__':\n",
    "    \n",
    "    g = Graph(5)\n",
    "    g.add_edge(0, 1)\n",
    "#     g.add_edge(1, 4)\n",
    "    g.add_edge(1, 2)\n",
    "    g.add_edge(3, 4)\n",
    "    g.add_edge(2, 3)\n",
    "    \n",
    "    if g.is_cyclic():\n",
    "        print('Contains cycle')\n",
    "    else:\n",
    "        print('Does not contains cycle')"
   ]
  },
  {
   "cell_type": "markdown",
   "id": "949cdf2e",
   "metadata": {},
   "source": [
    "### Detect Cycle in a Directed Graph"
   ]
  },
  {
   "cell_type": "code",
   "execution_count": 45,
   "id": "0322f290",
   "metadata": {},
   "outputs": [
    {
     "name": "stdout",
     "output_type": "stream",
     "text": [
      "Graph does not contain cycle\n"
     ]
    }
   ],
   "source": [
    "from collections import defaultdict\n",
    "\n",
    "class Graph:\n",
    "    def __init__(self, n):\n",
    "        self.graph = defaultdict(list)\n",
    "        self.n = n\n",
    "    \n",
    "\n",
    "    def add_edge(self, u, v):\n",
    "        self.graph[u].append(v)\n",
    "        \n",
    "    def DFS(self, u, visited, seen):\n",
    "        visited[u] = True\n",
    "        seen[u] = True\n",
    "        for v in self.graph[u]:\n",
    "            if visited[v] == False:\n",
    "                if self.DFS(v, visited, seen):\n",
    "                    return True\n",
    "            if seen[v] == True:\n",
    "                return True\n",
    "        seen[u] = False\n",
    "        return False            \n",
    "    \n",
    "    def is_cycle(self):\n",
    "        visited = [False] * (self.n)\n",
    "        seen = [False] * (self.n)\n",
    "        \n",
    "        for u in range(self.n):\n",
    "            if visited[u] == False:\n",
    "                if self.DFS(u, visited, seen):\n",
    "                    return True\n",
    "        return False\n",
    "\n",
    "# Driver Code\n",
    "if __name__ == '__main__':\n",
    "    g = Graph(6)\n",
    "    g.add_edge(0, 1)\n",
    "    g.add_edge(1, 2)\n",
    "#     g.add_edge(2, 3)\n",
    "    g.add_edge(3, 4)\n",
    "    g.add_edge(4, 1)\n",
    "    g.add_edge(3, 5)\n",
    "#     g.add_edge(5, 5)\n",
    "    \n",
    "    if g.is_cycle():\n",
    "        print(\"Graph contains cycle\")\n",
    "    else:\n",
    "        print(\"Graph does not contain cycle\")"
   ]
  }
 ],
 "metadata": {
  "kernelspec": {
   "display_name": "Python 3 (ipykernel)",
   "language": "python",
   "name": "python3"
  },
  "language_info": {
   "codemirror_mode": {
    "name": "ipython",
    "version": 3
   },
   "file_extension": ".py",
   "mimetype": "text/x-python",
   "name": "python",
   "nbconvert_exporter": "python",
   "pygments_lexer": "ipython3",
   "version": "3.9.10"
  }
 },
 "nbformat": 4,
 "nbformat_minor": 5
}
