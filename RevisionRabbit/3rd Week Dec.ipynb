{
 "cells": [
  {
   "cell_type": "markdown",
   "id": "53a99138",
   "metadata": {},
   "source": [
    "## Tuesday"
   ]
  },
  {
   "cell_type": "markdown",
   "id": "991c42e2",
   "metadata": {},
   "source": [
    "### BFS Implementation"
   ]
  },
  {
   "cell_type": "code",
   "execution_count": 8,
   "id": "daf4aab2",
   "metadata": {},
   "outputs": [
    {
     "name": "stdout",
     "output_type": "stream",
     "text": [
      "2 0 3 1 "
     ]
    }
   ],
   "source": [
    "from collections import defaultdict, deque\n",
    "\n",
    "class Graph:\n",
    "    def __init__(self):\n",
    "        self.dict = defaultdict(list)\n",
    "    \n",
    "    def add_edge(self, u, v):\n",
    "        self.dict[u].append(v)\n",
    "        \n",
    "    def bfs(self, s):\n",
    "        visited = [False] * (max(self.dict) + 1)\n",
    "        queue = deque()\n",
    "        queue.append(s)\n",
    "        visited[s] = True\n",
    "        while queue:\n",
    "            v = queue.popleft()\n",
    "            print(v, end = ' ')\n",
    "            for i in self.dict[v]:\n",
    "                if visited[i] == False:\n",
    "                    queue.append(i)\n",
    "                    visited[i] = True        \n",
    "        \n",
    "# Driver Code\n",
    "if __name__ == '__main__':\n",
    "    g = Graph()\n",
    "    g.add_edge(0, 1)\n",
    "    g.add_edge(0, 2)\n",
    "    g.add_edge(1, 2)\n",
    "    g.add_edge(2, 0)\n",
    "    g.add_edge(2, 3)\n",
    "    g.add_edge(3, 3)\n",
    "    \n",
    "    g.bfs(2)"
   ]
  },
  {
   "cell_type": "markdown",
   "id": "81402ea1",
   "metadata": {},
   "source": [
    "###"
   ]
  }
 ],
 "metadata": {
  "kernelspec": {
   "display_name": "Python 3 (ipykernel)",
   "language": "python",
   "name": "python3"
  },
  "language_info": {
   "codemirror_mode": {
    "name": "ipython",
    "version": 3
   },
   "file_extension": ".py",
   "mimetype": "text/x-python",
   "name": "python",
   "nbconvert_exporter": "python",
   "pygments_lexer": "ipython3",
   "version": "3.9.10"
  }
 },
 "nbformat": 4,
 "nbformat_minor": 5
}
