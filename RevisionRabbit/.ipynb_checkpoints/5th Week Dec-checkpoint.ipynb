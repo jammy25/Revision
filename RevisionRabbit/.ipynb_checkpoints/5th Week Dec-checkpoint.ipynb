{
 "cells": [
  {
   "cell_type": "markdown",
   "id": "210622a0",
   "metadata": {},
   "source": [
    "### Mon"
   ]
  },
  {
   "cell_type": "markdown",
   "id": "bb7e9891",
   "metadata": {},
   "source": [
    "### Check if Graph is Strongly Connected"
   ]
  },
  {
   "cell_type": "code",
   "execution_count": 7,
   "id": "6935f8ea",
   "metadata": {},
   "outputs": [
    {
     "name": "stdout",
     "output_type": "stream",
     "text": [
      "Graph is strongly Connected\n",
      "Graph is not strongly connected\n"
     ]
    }
   ],
   "source": [
    "from collections import defaultdict\n",
    "\n",
    "class Graph:\n",
    "    def __init__(self, n):\n",
    "        self.graph = defaultdict(list)\n",
    "        self.n = n\n",
    "        \n",
    "    def add_edge(self, u, v):\n",
    "        self.graph[u].append(v)\n",
    "        \n",
    "    def dfs(self, u, visited):\n",
    "        visited.add(u)\n",
    "        for v in self.graph[u]:\n",
    "            if v not in visited:\n",
    "                self.dfs(v, visited)\n",
    "    \n",
    "    def is_strongly_connected(self):\n",
    "        for node in range(self.n):\n",
    "            visited = set()\n",
    "            self.dfs(node, visited)\n",
    "            if len(visited) < self.n:\n",
    "                return False\n",
    "        return True\n",
    "        \n",
    "        \n",
    "#Driver Code\n",
    "if __name__ == '__main__':\n",
    "    \n",
    "    g1 = Graph(5)\n",
    "    g1.add_edge(0, 1)\n",
    "    g1.add_edge(1, 2)\n",
    "    g1.add_edge(2, 3)\n",
    "    g1.add_edge(3, 0)\n",
    "    g1.add_edge(2, 4)\n",
    "    g1.add_edge(4, 2)\n",
    "\n",
    "    if g1.is_strongly_connected():\n",
    "        print('Graph is strongly Connected')\n",
    "    else:\n",
    "        print('Graph is not strongly connected')\n",
    "        \n",
    "    g2 = Graph(4)\n",
    "    g2.add_edge(0, 1)\n",
    "    g2.add_edge(1, 2)\n",
    "    g2.add_edge(2, 3)\n",
    "    \n",
    "    if g2.is_strongly_connected():\n",
    "        print('Graph is strongly Connected')\n",
    "    else:\n",
    "        print('Graph is not strongly connected')"
   ]
  },
  {
   "cell_type": "markdown",
   "id": "f6cb7cc0",
   "metadata": {},
   "source": [
    "### Wed"
   ]
  },
  {
   "cell_type": "markdown",
   "id": "30247021",
   "metadata": {},
   "source": [
    "### Prim's Algorithm"
   ]
  },
  {
   "cell_type": "code",
   "execution_count": 18,
   "id": "a71e683d",
   "metadata": {},
   "outputs": [
    {
     "name": "stdout",
     "output_type": "stream",
     "text": [
      "16\n"
     ]
    }
   ],
   "source": [
    "from collections import defaultdict\n",
    "from heapq import heappop, heappush\n",
    "\n",
    "def primAlgo(graph):\n",
    "    min_heap = []\n",
    "    n = len(graph)\n",
    "#     weight = [float('inf') * (n  + 1)]\n",
    "#     parent = [(-1) * (n + 1)]\n",
    "#     mstSet = [(False) * (n + 1)]\n",
    "    weight = [float('inf') for _ in range(n)]\n",
    "    parent = [(-1) for _ in range(n)]\n",
    "    mstSet = [False for _ in range(n)]\n",
    "    \n",
    "    heappush(min_heap, (0, 0))\n",
    "    \n",
    "    weight[0] = 0\n",
    "    \n",
    "    while min_heap:\n",
    "        weights, node = heappop(min_heap)\n",
    "        \n",
    "        for u, w in graph[node]:\n",
    "            if mstSet[u] == False and w < weight[u]:\n",
    "                parent[u] = u\n",
    "                weight[u] = w\n",
    "#                 mstSet[u] = True\n",
    "                heappush(min_heap, (weight[u], u))\n",
    "    return sum(weight[1:])    \n",
    "    \n",
    "#Driver Code\n",
    "if __name__ == '__main__':\n",
    "    edges = [[0, 3, 6], [0, 1, 2], [1, 3, 8], [1, 4, 5], [1, 2, 3], [3, 4, 9], [2, 4, 7]]\n",
    "    \n",
    "    graph = defaultdict(list)\n",
    "    \n",
    "    for u, v, w in edges:\n",
    "        graph[u].append((v, w))\n",
    "        graph[v].append((u, w))\n",
    "        \n",
    "    print(primAlgo(graph))"
   ]
  },
  {
   "cell_type": "markdown",
   "id": "5926fae0",
   "metadata": {},
   "source": [
    "### Trie Implementation"
   ]
  },
  {
   "cell_type": "code",
   "execution_count": 34,
   "id": "0fa9fc4c",
   "metadata": {},
   "outputs": [
    {
     "name": "stdout",
     "output_type": "stream",
     "text": [
      "True\n",
      "pqrs deleted\n",
      "False\n"
     ]
    }
   ],
   "source": [
    "class TrieNode:\n",
    "    def __init__(self):\n",
    "        self.children = {}\n",
    "        self.end_of_word = False\n",
    "        \n",
    "class Trie:\n",
    "    def __init__(self):\n",
    "        self.root = TrieNode()\n",
    "        \n",
    "    def insert(self, word):\n",
    "        ptr = self.root\n",
    "        for ch in word:\n",
    "            if not ptr.children.get(ch):\n",
    "                ptr.children[ch] = TrieNode()\n",
    "            ptr = ptr.children[ch]\n",
    "        ptr.end_of_word = True\n",
    "    \n",
    "    def search(self, word):\n",
    "        ptr = self.root\n",
    "        for ch in word:\n",
    "            if not ptr.children.get(ch):\n",
    "                return False\n",
    "            ptr = ptr.children[ch]\n",
    "        return ptr.end_of_word\n",
    "    \n",
    "    def delete(self, word):\n",
    "        if not self.search(word):\n",
    "            return 'Word not present'\n",
    "        ptr = self.root\n",
    "        for ch in word:\n",
    "            ptr = ptr.children[ch]\n",
    "        ptr.end_of_word = False\n",
    "        return word + ' deleted'\n",
    "    \n",
    "    def update(self, word, new_word):\n",
    "        self.delete(word)\n",
    "        self.insert(new_word)\n",
    "    \n",
    "# Driver Code\n",
    "if __name__ == '__main__':\n",
    "    trie = Trie()\n",
    "    words = ['pqrs', 'prst', 'qrst', 'qpr']\n",
    "    for word in words:\n",
    "        trie.insert(word)\n",
    "        \n",
    "    print(trie.search('pqrs'))\n",
    "    print(trie.delete('pqrs'))\n",
    "    print(trie.search('pqrs'))"
   ]
  },
  {
   "cell_type": "markdown",
   "id": "705f3d9b",
   "metadata": {},
   "source": [
    "### Thurs"
   ]
  },
  {
   "cell_type": "markdown",
   "id": "f22daa28",
   "metadata": {},
   "source": [
    "### AutoComplete Suggestion"
   ]
  },
  {
   "cell_type": "code",
   "execution_count": 14,
   "id": "164fda7f",
   "metadata": {},
   "outputs": [
    {
     "name": "stdout",
     "output_type": "stream",
     "text": [
      "['hell', 'hello', 'helsinki']\n"
     ]
    }
   ],
   "source": [
    "class TrieNode:\n",
    "    def __init__(self):\n",
    "        self.children = {}\n",
    "        self.end_of_word = False\n",
    "        \n",
    "class Trie:\n",
    "    def __init__(self):\n",
    "        self.root = TrieNode()\n",
    "    \n",
    "    def insert(self, word):\n",
    "        ptr = self.root\n",
    "        for ch in word:\n",
    "            if not ptr.children.get(ch):\n",
    "                ptr.children[ch] = TrieNode()\n",
    "            ptr = ptr.children[ch]\n",
    "        ptr.end_of_word = True\n",
    "    \n",
    "    def dfs(self, ptr, word):\n",
    "        if ptr.end_of_word:\n",
    "            self.suggestion.append(word)\n",
    "        for ch in ptr.children:\n",
    "            self.dfs(ptr.children[ch], word + ch)\n",
    "    \n",
    "    def auto_suggestion(self, word):\n",
    "        ptr = self.root\n",
    "        for ch in word:\n",
    "            if not ptr.children.get(ch):\n",
    "                return []\n",
    "            ptr = ptr.children[ch]\n",
    "        self.suggestion = []\n",
    "        self.dfs(ptr, word)\n",
    "        return self.suggestion\n",
    "    \n",
    "\n",
    "#Driver Code\n",
    "if __name__ == '__main__':\n",
    "    trie = Trie()\n",
    "    words = [\"hello\", \"hell\", \"helsinki\", \"he-man\", \"heck\", \"billie\", \"harry\"]\n",
    "    for word in words:\n",
    "        trie.insert(word)\n",
    "    \n",
    "    print(trie.auto_suggestion('hel'))"
   ]
  },
  {
   "cell_type": "markdown",
   "id": "b7ef4f36",
   "metadata": {},
   "source": [
    "### Find Word in Matrix"
   ]
  },
  {
   "cell_type": "code",
   "execution_count": 1,
   "id": "4f252ce0",
   "metadata": {},
   "outputs": [
    {
     "name": "stdout",
     "output_type": "stream",
     "text": [
      "['QUIZ', 'GEEKS']\n"
     ]
    }
   ],
   "source": [
    "class TrieNode:\n",
    "    def __init__(self):\n",
    "        self.children = {}\n",
    "        self.end_of_word = False\n",
    "        \n",
    "class Trie:\n",
    "    def __init__(self):\n",
    "        self.root = TrieNode()\n",
    "        \n",
    "    def insert(self, word):\n",
    "        ptr = self.root\n",
    "        for ch in word:\n",
    "            if not ptr.children.get(ch):\n",
    "                ptr.children[ch] = TrieNode()\n",
    "            ptr = ptr.children[ch]\n",
    "        ptr.end_of_word = True\n",
    "        \n",
    "def find_word_in_matrix(matrix, dictionary):\n",
    "    X = [-1, -1, -1, 0, 0, 1, 1, 1]\n",
    "    Y = [-1, 0, 1, -1, 1, -1, 0, 1]\n",
    "    def dfs(root, word, i, j):\n",
    "        if root.end_of_word:\n",
    "            words.append(word)\n",
    "        for k in range(8):\n",
    "            x, y = i + X[k], j + Y[k]\n",
    "            if 0 <= x < m and 0 <= y < n and root.children.get(matrix[x][y]):\n",
    "                ch = matrix[x][y]\n",
    "                matrix[x][y] = '.'\n",
    "                dfs(root.children[ch], word + ch, x, y)\n",
    "                matrix[x][y] = ch    \n",
    "    \n",
    "    m, n = len(matrix), len(matrix[0])\n",
    "    words = []\n",
    "    trie = Trie()\n",
    "    for word in dictionary:\n",
    "        trie.insert(word)\n",
    "    \n",
    "    root = trie.root\n",
    "    for i in range(m):\n",
    "        for j in range(n):\n",
    "            if root.children.get(matrix[i][j]):\n",
    "                ch = matrix[i][j]\n",
    "                matrix[i][j] = '.'\n",
    "                dfs(root.children[ch], ch, i, j)\n",
    "                matrix[i][j] = ch\n",
    "    return list(set(words))\n",
    "    \n",
    "    \n",
    "#Driver Code\n",
    "if __name__ == '__main__':\n",
    "    matrix = [['G', 'I', 'Z'], ['U', 'E', 'K'], ['Q', 'S', 'E']]\n",
    "    dictionary = ['GEEKS', 'FOR', 'QUIZ', 'GO']\n",
    "    \n",
    "    print(find_word_in_matrix(matrix, dictionary))"
   ]
  },
  {
   "cell_type": "code",
   "execution_count": null,
   "id": "a85f4714",
   "metadata": {},
   "outputs": [],
   "source": []
  }
 ],
 "metadata": {
  "kernelspec": {
   "display_name": "Python 3 (ipykernel)",
   "language": "python",
   "name": "python3"
  },
  "language_info": {
   "codemirror_mode": {
    "name": "ipython",
    "version": 3
   },
   "file_extension": ".py",
   "mimetype": "text/x-python",
   "name": "python",
   "nbconvert_exporter": "python",
   "pygments_lexer": "ipython3",
   "version": "3.9.10"
  }
 },
 "nbformat": 4,
 "nbformat_minor": 5
}
