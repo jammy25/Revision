{
 "cells": [
  {
   "cell_type": "markdown",
   "id": "79c97aaa",
   "metadata": {},
   "source": [
    "### Thurs"
   ]
  },
  {
   "cell_type": "markdown",
   "id": "241cc860",
   "metadata": {},
   "source": [
    "### Topological Sorting"
   ]
  },
  {
   "cell_type": "code",
   "execution_count": 8,
   "id": "f5701f2d",
   "metadata": {},
   "outputs": [
    {
     "name": "stdout",
     "output_type": "stream",
     "text": [
      "[0, 1, 2, 3, 4]\n"
     ]
    }
   ],
   "source": [
    "from collections import defaultdict\n",
    "\n",
    "class Graph:\n",
    "    def __init__(self, n):\n",
    "        self.graph = defaultdict(list)\n",
    "        self.n = n\n",
    "        self.in_degree = [0] * n\n",
    "        \n",
    "    def add_edge(self, u, v):\n",
    "        self.graph[u].append(v)\n",
    "        if self.graph[v]:\n",
    "            pass\n",
    "        self.in_degree[v] += 1\n",
    "        \n",
    "    def dfs(self, visited, u, res):\n",
    "        for v in self.graph[u]:\n",
    "            if not self.in_degree[v]:\n",
    "                continue\n",
    "            self.in_degree[v] -= 1\n",
    "            if not self.in_degree[v] and v not in visited:\n",
    "                visited.add(v)\n",
    "                res.append(v)\n",
    "                self.dfs(visited, v, res)\n",
    "    \n",
    "    def topo_sort(self):\n",
    "        res = []\n",
    "        visited = set()\n",
    "        for u in self.graph:\n",
    "            if u in visited:\n",
    "                continue\n",
    "            if not self.in_degree[u]:\n",
    "                res.append(u)\n",
    "                visited.add(u)\n",
    "                self.dfs(visited, u, res)\n",
    "        return res        \n",
    "\n",
    "# Driver Code\n",
    "\n",
    "if __name__ == '__main__':\n",
    "    g = Graph(5)\n",
    "    g.add_edge(0, 1)\n",
    "    g.add_edge(0, 3)\n",
    "    g.add_edge(1, 2)\n",
    "    g.add_edge(2, 3)\n",
    "    g.add_edge(2, 4)\n",
    "    g.add_edge(3, 4)\n",
    "    \n",
    "    print(g.topo_sort())    "
   ]
  },
  {
   "cell_type": "markdown",
   "id": "7c3c0910",
   "metadata": {},
   "source": [
    "### Fri"
   ]
  },
  {
   "cell_type": "markdown",
   "id": "6e25cbfc",
   "metadata": {},
   "source": [
    "### Verify an Alien Dictionary"
   ]
  },
  {
   "cell_type": "code",
   "execution_count": 10,
   "id": "68e00c9d",
   "metadata": {},
   "outputs": [
    {
     "name": "stdout",
     "output_type": "stream",
     "text": [
      "y -> t -> x -> z -> a -> END\n"
     ]
    }
   ],
   "source": [
    "from collections import defaultdict\n",
    "\n",
    "def alien_dictionary(words):\n",
    "    \n",
    "    def dfs(u):\n",
    "        visited.add(u)\n",
    "        for v in graph[u]:\n",
    "            if not in_degree[v] or v in visited:\n",
    "                continue\n",
    "            in_degree[v] -= 1\n",
    "            if not in_degree[v]:\n",
    "                res.append(v)\n",
    "                dfs(v)\n",
    "    \n",
    "    graph = defaultdict(list)\n",
    "    in_degree = defaultdict(int)\n",
    "    n = len(words)\n",
    "    for i in range(n - 1):\n",
    "        for j in range(len(min(words[i], words[i + 1]))):\n",
    "            if words[i][j] != words[i + 1][j]:\n",
    "                graph[words[i][j]].append(words[i + 1][j])\n",
    "                in_degree[words[i + 1][j]] += 1\n",
    "                if not in_degree[words[i][j]]:\n",
    "                    in_degree[words[i][j]] = 0\n",
    "                    break\n",
    "                    \n",
    "    visited = set()\n",
    "    res = []\n",
    "    for c in in_degree:\n",
    "        if not in_degree[c] and c not in visited:\n",
    "            res.append(c)\n",
    "            dfs(c)\n",
    "            \n",
    "    for word in words:\n",
    "        for c in word:\n",
    "            if c not in res:\n",
    "                res.append(c)\n",
    "                \n",
    "    return res\n",
    " \n",
    "# Driver Code\n",
    "if __name__ == '__main__':\n",
    "    \n",
    "    dictionary = ['yxx', 'yxxta', 'xyzt', 'xyzx', 'zxy', 'zxt']\n",
    "    res = alien_dictionary(dictionary)\n",
    "    \n",
    "    for r in res:\n",
    "        print(r, end = ' -> ')\n",
    "    print('END')"
   ]
  }
 ],
 "metadata": {
  "kernelspec": {
   "display_name": "Python 3 (ipykernel)",
   "language": "python",
   "name": "python3"
  },
  "language_info": {
   "codemirror_mode": {
    "name": "ipython",
    "version": 3
   },
   "file_extension": ".py",
   "mimetype": "text/x-python",
   "name": "python",
   "nbconvert_exporter": "python",
   "pygments_lexer": "ipython3",
   "version": "3.9.10"
  }
 },
 "nbformat": 4,
 "nbformat_minor": 5
}
