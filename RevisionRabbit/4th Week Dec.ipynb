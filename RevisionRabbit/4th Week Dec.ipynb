{
 "cells": [
  {
   "cell_type": "markdown",
   "id": "79c97aaa",
   "metadata": {},
   "source": [
    "### Thurs"
   ]
  },
  {
   "cell_type": "markdown",
   "id": "cf4e1e6a",
   "metadata": {},
   "source": [
    "### Topological Sorting"
   ]
  },
  {
   "cell_type": "code",
   "execution_count": 8,
   "id": "f5701f2d",
   "metadata": {},
   "outputs": [
    {
     "name": "stdout",
     "output_type": "stream",
     "text": [
      "[0, 1, 2, 3, 4]\n"
     ]
    }
   ],
   "source": [
    "from collections import defaultdict\n",
    "\n",
    "class Graph:\n",
    "    def __init__(self, n):\n",
    "        self.graph = defaultdict(list)\n",
    "        self.n = n\n",
    "        self.in_degree = [0] * n\n",
    "        \n",
    "    def add_edge(self, u, v):\n",
    "        self.graph[u].append(v)\n",
    "        if self.graph[v]:\n",
    "            pass\n",
    "        self.in_degree[v] += 1\n",
    "        \n",
    "    def dfs(self, visited, u, res):\n",
    "        for v in self.graph[u]:\n",
    "            if not self.in_degree[v]:\n",
    "                continue\n",
    "            self.in_degree[v] -= 1\n",
    "            if not self.in_degree[v] and v not in visited:\n",
    "                visited.add(v)\n",
    "                res.append(v)\n",
    "                self.dfs(visited, v, res)\n",
    "    \n",
    "    def topo_sort(self):\n",
    "        res = []\n",
    "        visited = set()\n",
    "        for u in self.graph:\n",
    "            if u in visited:\n",
    "                continue\n",
    "            if not self.in_degree[u]:\n",
    "                res.append(u)\n",
    "                visited.add(u)\n",
    "                self.dfs(visited, u, res)\n",
    "        return res        \n",
    "\n",
    "# Driver Code\n",
    "\n",
    "if __name__ == '__main__':\n",
    "    g = Graph(5)\n",
    "    g.add_edge(0, 1)\n",
    "    g.add_edge(0, 3)\n",
    "    g.add_edge(1, 2)\n",
    "    g.add_edge(2, 3)\n",
    "    g.add_edge(2, 4)\n",
    "    g.add_edge(3, 4)\n",
    "    \n",
    "    print(g.topo_sort())    "
   ]
  },
  {
   "cell_type": "code",
   "execution_count": null,
   "id": "7f206e5b",
   "metadata": {},
   "outputs": [],
   "source": []
  }
 ],
 "metadata": {
  "kernelspec": {
   "display_name": "Python 3 (ipykernel)",
   "language": "python",
   "name": "python3"
  },
  "language_info": {
   "codemirror_mode": {
    "name": "ipython",
    "version": 3
   },
   "file_extension": ".py",
   "mimetype": "text/x-python",
   "name": "python",
   "nbconvert_exporter": "python",
   "pygments_lexer": "ipython3",
   "version": "3.9.10"
  }
 },
 "nbformat": 4,
 "nbformat_minor": 5
}
