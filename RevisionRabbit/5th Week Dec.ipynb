{
 "cells": [
  {
   "cell_type": "markdown",
   "id": "210622a0",
   "metadata": {},
   "source": [
    "### Mon"
   ]
  },
  {
   "cell_type": "markdown",
   "id": "bb7e9891",
   "metadata": {},
   "source": [
    "### Check if Graph is Strongly Connected"
   ]
  },
  {
   "cell_type": "code",
   "execution_count": 7,
   "id": "6935f8ea",
   "metadata": {},
   "outputs": [
    {
     "name": "stdout",
     "output_type": "stream",
     "text": [
      "Graph is strongly Connected\n",
      "Graph is not strongly connected\n"
     ]
    }
   ],
   "source": [
    "from collections import defaultdict\n",
    "\n",
    "class Graph:\n",
    "    def __init__(self, n):\n",
    "        self.graph = defaultdict(list)\n",
    "        self.n = n\n",
    "        \n",
    "    def add_edge(self, u, v):\n",
    "        self.graph[u].append(v)\n",
    "        \n",
    "    def dfs(self, u, visited):\n",
    "        visited.add(u)\n",
    "        for v in self.graph[u]:\n",
    "            if v not in visited:\n",
    "                self.dfs(v, visited)\n",
    "    \n",
    "    def is_strongly_connected(self):\n",
    "        for node in range(self.n):\n",
    "            visited = set()\n",
    "            self.dfs(node, visited)\n",
    "            if len(visited) < self.n:\n",
    "                return False\n",
    "        return True\n",
    "        \n",
    "        \n",
    "#Driver Code\n",
    "if __name__ == '__main__':\n",
    "    \n",
    "    g1 = Graph(5)\n",
    "    g1.add_edge(0, 1)\n",
    "    g1.add_edge(1, 2)\n",
    "    g1.add_edge(2, 3)\n",
    "    g1.add_edge(3, 0)\n",
    "    g1.add_edge(2, 4)\n",
    "    g1.add_edge(4, 2)\n",
    "\n",
    "    if g1.is_strongly_connected():\n",
    "        print('Graph is strongly Connected')\n",
    "    else:\n",
    "        print('Graph is not strongly connected')\n",
    "        \n",
    "    g2 = Graph(4)\n",
    "    g2.add_edge(0, 1)\n",
    "    g2.add_edge(1, 2)\n",
    "    g2.add_edge(2, 3)\n",
    "    \n",
    "    if g2.is_strongly_connected():\n",
    "        print('Graph is strongly Connected')\n",
    "    else:\n",
    "        print('Graph is not strongly connected')"
   ]
  },
  {
   "cell_type": "markdown",
   "id": "f6cb7cc0",
   "metadata": {},
   "source": [
    "### Wed"
   ]
  },
  {
   "cell_type": "markdown",
   "id": "30247021",
   "metadata": {},
   "source": [
    "### Prim's Algorithm"
   ]
  },
  {
   "cell_type": "code",
   "execution_count": 18,
   "id": "a71e683d",
   "metadata": {},
   "outputs": [
    {
     "name": "stdout",
     "output_type": "stream",
     "text": [
      "16\n"
     ]
    }
   ],
   "source": [
    "from collections import defaultdict\n",
    "from heapq import heappop, heappush\n",
    "\n",
    "def primAlgo(graph):\n",
    "    min_heap = []\n",
    "    n = len(graph)\n",
    "#     weight = [float('inf') * (n  + 1)]\n",
    "#     parent = [(-1) * (n + 1)]\n",
    "#     mstSet = [(False) * (n + 1)]\n",
    "    weight = [float('inf') for _ in range(n)]\n",
    "    parent = [(-1) for _ in range(n)]\n",
    "    mstSet = [False for _ in range(n)]\n",
    "    \n",
    "    heappush(min_heap, (0, 0))\n",
    "    \n",
    "    weight[0] = 0\n",
    "    \n",
    "    while min_heap:\n",
    "        weights, node = heappop(min_heap)\n",
    "        \n",
    "        for u, w in graph[node]:\n",
    "            if mstSet[u] == False and w < weight[u]:\n",
    "                parent[u] = u\n",
    "                weight[u] = w\n",
    "#                 mstSet[u] = True\n",
    "                heappush(min_heap, (weight[u], u))\n",
    "    return sum(weight[1:])    \n",
    "    \n",
    "#Driver Code\n",
    "if __name__ == '__main__':\n",
    "    edges = [[0, 3, 6], [0, 1, 2], [1, 3, 8], [1, 4, 5], [1, 2, 3], [3, 4, 9], [2, 4, 7]]\n",
    "    \n",
    "    graph = defaultdict(list)\n",
    "    \n",
    "    for u, v, w in edges:\n",
    "        graph[u].append((v, w))\n",
    "        graph[v].append((u, w))\n",
    "        \n",
    "    print(primAlgo(graph))"
   ]
  },
  {
   "cell_type": "code",
   "execution_count": null,
   "id": "b157f017",
   "metadata": {},
   "outputs": [],
   "source": []
  }
 ],
 "metadata": {
  "kernelspec": {
   "display_name": "Python 3 (ipykernel)",
   "language": "python",
   "name": "python3"
  },
  "language_info": {
   "codemirror_mode": {
    "name": "ipython",
    "version": 3
   },
   "file_extension": ".py",
   "mimetype": "text/x-python",
   "name": "python",
   "nbconvert_exporter": "python",
   "pygments_lexer": "ipython3",
   "version": "3.9.10"
  }
 },
 "nbformat": 4,
 "nbformat_minor": 5
}
