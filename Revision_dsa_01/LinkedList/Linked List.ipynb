{
 "cells": [
  {
   "cell_type": "markdown",
   "id": "2fef5482",
   "metadata": {},
   "source": [
    "## Singly Linked List"
   ]
  },
  {
   "cell_type": "markdown",
   "id": "de2c1f78",
   "metadata": {},
   "source": [
    "### Create Node"
   ]
  },
  {
   "cell_type": "code",
   "execution_count": 1,
   "id": "b5885d9b",
   "metadata": {},
   "outputs": [
    {
     "name": "stdout",
     "output_type": "stream",
     "text": [
      "<__main__.Node object at 0x0000025D2AF43CA0>\n"
     ]
    }
   ],
   "source": [
    "class Node:\n",
    "    def __init__(self, data):\n",
    "        self.data = data\n",
    "        self.ref = None\n",
    "        \n",
    "node1 = Node(10)\n",
    "print(node1)"
   ]
  },
  {
   "cell_type": "markdown",
   "id": "32778964",
   "metadata": {},
   "source": [
    "### Create class for linked list and perform Traverse operation"
   ]
  },
  {
   "cell_type": "code",
   "execution_count": null,
   "id": "8060dcaa",
   "metadata": {},
   "outputs": [],
   "source": [
    "class LinkedList:\n",
    "    def __init__(self):\n",
    "        self.head = None\n",
    "    # Traversal_operation\n",
    "    def print_ll(self):\n",
    "        n = self.head\n",
    "        if n is None:\n",
    "            print(\"LL is empty.\")\n",
    "        else:\n",
    "            while n is not None:\n",
    "                print(n.data)\n",
    "                n = n.ref\n",
    "LL1 = LinkedList()\n",
    "LL1.print_ll()"
   ]
  },
  {
   "cell_type": "markdown",
   "id": "ba06dae0",
   "metadata": {},
   "source": [
    "### Add / Insert operation"
   ]
  },
  {
   "cell_type": "markdown",
   "id": "92e93f97",
   "metadata": {},
   "source": [
    "#### Add_begin"
   ]
  },
  {
   "cell_type": "code",
   "execution_count": null,
   "id": "e9e6955a",
   "metadata": {},
   "outputs": [],
   "source": [
    "    def add_begin(self, data):\n",
    "        new_node = Node(data)\n",
    "        new_node.ref = self.head\n",
    "        self.head = new_node\n",
    "LL1 = LinkedList()\n",
    "LL1.add_begin(10)\n",
    "LL1.add_begin(20)\n",
    "LL1.print_ll()"
   ]
  },
  {
   "cell_type": "markdown",
   "id": "72b50164",
   "metadata": {},
   "source": [
    "#### Add_end"
   ]
  },
  {
   "cell_type": "code",
   "execution_count": null,
   "id": "30fcfd77",
   "metadata": {},
   "outputs": [],
   "source": [
    "    def add_end(self, data):\n",
    "        new_node = Node(data)\n",
    "        if self.head is None:\n",
    "            self.head = new_node\n",
    "        else:\n",
    "            n = self_head\n",
    "            while n.ref is not None:\n",
    "                n = n.ref\n",
    "            n.ref = new_node\n",
    "LL1.add_end(100)"
   ]
  },
  {
   "cell_type": "markdown",
   "id": "7b29d678",
   "metadata": {},
   "source": [
    "#### Add_after"
   ]
  },
  {
   "cell_type": "code",
   "execution_count": null,
   "id": "611c05cd",
   "metadata": {},
   "outputs": [],
   "source": [
    "    def add_after(self, data, x):\n",
    "        n = self.head\n",
    "        while n in not None:\n",
    "            if x == n.data:\n",
    "                break\n",
    "            else:\n",
    "                new_node = Node(data)\n",
    "                new_node.ref = n.ref\n",
    "                new_node = n.ref\n",
    "LL1.add_after(10)"
   ]
  },
  {
   "cell_type": "markdown",
   "id": "8395a31c",
   "metadata": {},
   "source": [
    "#### Add_before"
   ]
  },
  {
   "cell_type": "code",
   "execution_count": null,
   "id": "f539feb4",
   "metadata": {},
   "outputs": [],
   "source": [
    "    def add_before(self, data, x):\n",
    "        if self.head is None:                   # if LL is empty\n",
    "            print(\"LL is empty.\")\n",
    "            return\n",
    "        if self.head.data == x:                 # before 1st Node\n",
    "            new_node = Node(data)\n",
    "            new_node.ref = self.head\n",
    "            self.head = new_node\n",
    "            return\n",
    "        n = self.head                           # before rest Nodes\n",
    "        while n.ref is not None:\n",
    "            if n.ref.data == x:\n",
    "                break\n",
    "                n = n.ref\n",
    "            if n.ref is None:\n",
    "                print(\"Node is not present\")\n",
    "            else:\n",
    "                new_node = Node(data)\n",
    "                new_node.ref = n.ref\n",
    "                n.ref = new_node\n",
    "LL1.add_before(20,10)"
   ]
  },
  {
   "cell_type": "markdown",
   "id": "778e1441",
   "metadata": {},
   "source": [
    "#### Insertion in an Empty List"
   ]
  },
  {
   "cell_type": "code",
   "execution_count": null,
   "id": "b1395e50",
   "metadata": {},
   "outputs": [],
   "source": [
    "    def insert_empty(self, data):\n",
    "        if self.head is None:\n",
    "            new_node = Node(data)\n",
    "            self.head = new_node\n",
    "        else:\n",
    "            print(\"LL is not empty\")\n",
    "LL1.insert_empty(10)"
   ]
  },
  {
   "cell_type": "markdown",
   "id": "a718ccc8",
   "metadata": {},
   "source": [
    "### Remove / Delete operation"
   ]
  },
  {
   "cell_type": "markdown",
   "id": "d5259cc9",
   "metadata": {},
   "source": [
    "#### At Beginning"
   ]
  },
  {
   "cell_type": "code",
   "execution_count": null,
   "id": "9efd2024",
   "metadata": {},
   "outputs": [],
   "source": [
    "    def delete_begin(self):\n",
    "        if self.head is None:\n",
    "            print(\"LL is empty so can't delete the node.\")\n",
    "        else:\n",
    "            self.head = self.head.ref\n",
    "LL1.delet_begin()"
   ]
  },
  {
   "cell_type": "markdown",
   "id": "30778df3",
   "metadata": {},
   "source": [
    "#### At End"
   ]
  },
  {
   "cell_type": "code",
   "execution_count": null,
   "id": "be980361",
   "metadata": {},
   "outputs": [],
   "source": [
    "    def delete_end(self):\n",
    "        if self.head is None:\n",
    "            print(\"LL is empty\")\n",
    "        elif self.head.ref is None:\n",
    "            self.head = None\n",
    "        else:\n",
    "            n = self.head\n",
    "            while n.ref.ref is not None:\n",
    "                n = n.ref\n",
    "            n.ref = None\n",
    "LL1.delete_end()"
   ]
  },
  {
   "cell_type": "markdown",
   "id": "8d0eb6c1",
   "metadata": {},
   "source": [
    "#### Deletion by Value"
   ]
  },
  {
   "cell_type": "code",
   "execution_count": null,
   "id": "07aa3888",
   "metadata": {},
   "outputs": [],
   "source": [
    "    def delete_by_value(self, x):\n",
    "        if self.head is None:\n",
    "            print(\"LL is empty can't delete the node.\")\n",
    "            return\n",
    "        if self.head.data == x:\n",
    "            self.head = self.head.ref\n",
    "        else:\n",
    "            n = self.head\n",
    "            while n.ref is not None:\n",
    "                if n.ref.data == x:\n",
    "                    break\n",
    "            n = n.ref\n",
    "            if n.ref is None:\n",
    "                print(\"LL is empty can't delete Node\")\n",
    "            else:\n",
    "                n.ref = n.ref.ref\n",
    "LL1.delete_by_value(10)"
   ]
  },
  {
   "cell_type": "markdown",
   "id": "9a9c28a8",
   "metadata": {},
   "source": [
    "## Full Code Singly LL"
   ]
  },
  {
   "cell_type": "code",
   "execution_count": 14,
   "id": "2fb434c1",
   "metadata": {},
   "outputs": [
    {
     "name": "stdout",
     "output_type": "stream",
     "text": [
      "10 ---> 25 ---> 30 ---> "
     ]
    }
   ],
   "source": [
    "# Create Node\n",
    "class Node:\n",
    "    def __init__(self, data):\n",
    "        self.data = data\n",
    "        self.ref = None\n",
    "\n",
    "class LinkedList:\n",
    "    def __init__(self):\n",
    "        self.head = None\n",
    "    # Traversal operation\n",
    "    def print_ll(self):\n",
    "        n = self.head\n",
    "        if n is None:\n",
    "            print(\"LL is empty\")\n",
    "        else:\n",
    "            while n is not None:\n",
    "                print(n.data, \"--->\", end = \" \")\n",
    "                n = n.ref\n",
    "    # Add/Insert operation\n",
    "    def add_begin(self, data):\n",
    "        new_node = Node(data)\n",
    "        new_node.ref = self.head\n",
    "        self.head = new_node\n",
    "    \n",
    "    def add_end(self, data):\n",
    "        new_node = Node(data)\n",
    "        if self.head is None:\n",
    "            new_node = self.head\n",
    "        else:\n",
    "            n = self.head\n",
    "            while n.ref is not None:\n",
    "                n = n.ref\n",
    "            n.ref = new_node\n",
    "    \n",
    "    def add_after(self, data, x):\n",
    "        n = self.head\n",
    "        while n is not None:\n",
    "            if x == n.data:\n",
    "                break\n",
    "            else:\n",
    "                n = n.ref\n",
    "        if n is None:\n",
    "            print(\"Node is not present.\")\n",
    "        else:\n",
    "            new_node = Node(data)\n",
    "            new_node.ref = n.ref\n",
    "            # new_node = n.ref  is incorrect\n",
    "            n.ref = new_node\n",
    "    def add_before(self, data, x):\n",
    "        if self.head is None:\n",
    "            print(\"LL is empty.\")\n",
    "            return\n",
    "        if self.head.data == x:\n",
    "            new_node = Node(data)\n",
    "            new_node.ref = self.head\n",
    "            self.head = new_node\n",
    "            return\n",
    "        n = self.head\n",
    "        while n.ref is not None:\n",
    "            if n.ref.data == x:\n",
    "                break\n",
    "            n = n.ref\n",
    "        if n.ref is None:\n",
    "            print(\"Node not found\")\n",
    "        else:\n",
    "            new_node = Node(data)\n",
    "            new_node.ref = n.ref\n",
    "            n.ref = new_node\n",
    "    def insert_empty(self, data):\n",
    "        if self.head is None:\n",
    "            new_node = Node(data)\n",
    "            self.head = new_node\n",
    "        else:\n",
    "            print(\"LL is not empty\")\n",
    "    \n",
    "    def delete_begin(self):\n",
    "        if self.head is None:\n",
    "            print(\"LL is empty so we can't delete the node.\")\n",
    "        else:\n",
    "            self.head = self.head.ref\n",
    "    def delete_end(self):\n",
    "        if self.head is None:\n",
    "            print(\"LL is empty so can't delete the Node.\")\n",
    "        elif self.head.ref is None:\n",
    "            self.head = None\n",
    "        else:\n",
    "            n = self.head\n",
    "            while n.ref.ref is not None:\n",
    "                n = n.ref\n",
    "            n.ref = None\n",
    "    def delete_by_value(self, x):\n",
    "        if self.head is None:\n",
    "            print(\"LL is empty so can't delete Node\")\n",
    "            return\n",
    "        if self.head.data == x:\n",
    "            self.head = self.head.ref\n",
    "        else:\n",
    "            n = self.head\n",
    "            while n.ref is not None:\n",
    "                if n.ref.data == x:\n",
    "                    break\n",
    "                n = n.ref\n",
    "            if n.ref is None:\n",
    "                print(\"Node is not present in the LL\")\n",
    "            else:\n",
    "                n.ref = n.ref.ref\n",
    "                \n",
    "LL1 = LinkedList()\n",
    "LL1.add_begin(10)\n",
    "LL1.add_end(25)\n",
    "LL1.add_after(52, 25)\n",
    "LL1.add_begin(20)\n",
    "LL1.add_before(30,52)\n",
    "LL1.delete_end()\n",
    "LL1.delete_begin()\n",
    "LL1.delete_by_value\n",
    "LL1.print_ll()"
   ]
  },
  {
   "cell_type": "code",
   "execution_count": null,
   "id": "1952d33a",
   "metadata": {},
   "outputs": [],
   "source": []
  }
 ],
 "metadata": {
  "kernelspec": {
   "display_name": "Python 3 (ipykernel)",
   "language": "python",
   "name": "python3"
  },
  "language_info": {
   "codemirror_mode": {
    "name": "ipython",
    "version": 3
   },
   "file_extension": ".py",
   "mimetype": "text/x-python",
   "name": "python",
   "nbconvert_exporter": "python",
   "pygments_lexer": "ipython3",
   "version": "3.10.4"
  }
 },
 "nbformat": 4,
 "nbformat_minor": 5
}
