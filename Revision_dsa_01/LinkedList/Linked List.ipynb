{
 "cells": [
  {
   "cell_type": "markdown",
   "id": "a6de1979",
   "metadata": {},
   "source": [
    "## Singly Linked List"
   ]
  },
  {
   "cell_type": "markdown",
   "id": "8c43aca0",
   "metadata": {},
   "source": [
    "### Create Node"
   ]
  },
  {
   "cell_type": "code",
   "execution_count": 3,
   "id": "254e87ab",
   "metadata": {},
   "outputs": [
    {
     "name": "stdout",
     "output_type": "stream",
     "text": [
      "<__main__.Node object at 0x0000022AD27C36D0>\n"
     ]
    }
   ],
   "source": [
    "class Node:\n",
    "    def __init__(self, data):\n",
    "        self.data = data\n",
    "        self.head = None\n",
    "        \n",
    "node1 = Node(10)\n",
    "print(node1)"
   ]
  },
  {
   "cell_type": "markdown",
   "id": "d8d78e79",
   "metadata": {},
   "source": [
    "### Create class for linked list and perform Traverse operation"
   ]
  },
  {
   "cell_type": "code",
   "execution_count": null,
   "id": "ad32c60d",
   "metadata": {},
   "outputs": [],
   "source": [
    "class LinkedList:\n",
    "    def __init__(self):\n",
    "        self.head = None\n",
    "    # Traversal_operation\n",
    "    def print_ll(self):\n",
    "        n = self.head\n",
    "        if n is None:\n",
    "            print(\"LL is empty.\")\n",
    "        else:\n",
    "            while n is not None:\n",
    "                print(n.data)\n",
    "                n = n.ref\n",
    "LL1 = LinkedList()\n",
    "LL1.print_ll()"
   ]
  },
  {
   "cell_type": "markdown",
   "id": "6bf88b3b",
   "metadata": {},
   "source": [
    "### Add/Insert operation"
   ]
  },
  {
   "cell_type": "markdown",
   "id": "5f211d8a",
   "metadata": {},
   "source": [
    "#### Add_begin"
   ]
  },
  {
   "cell_type": "code",
   "execution_count": null,
   "id": "56f1d1b1",
   "metadata": {},
   "outputs": [],
   "source": [
    "    def add_begin(self, data):\n",
    "        new_node = Node(data)\n",
    "        new_node.ref = self.head\n",
    "        self.head = new_node\n",
    "LL1 = LinkedList()\n",
    "LL1.add_begin(10)\n",
    "LL1.add_begin(20)\n",
    "LL1.print_ll()"
   ]
  },
  {
   "cell_type": "markdown",
   "id": "dc311bc7",
   "metadata": {},
   "source": [
    "#### Add_end"
   ]
  },
  {
   "cell_type": "code",
   "execution_count": null,
   "id": "3a298b7e",
   "metadata": {},
   "outputs": [],
   "source": []
  },
  {
   "cell_type": "markdown",
   "id": "de9b059a",
   "metadata": {},
   "source": [
    "## Full Code Singly LL"
   ]
  },
  {
   "cell_type": "code",
   "execution_count": 8,
   "id": "44a23390",
   "metadata": {},
   "outputs": [
    {
     "name": "stdout",
     "output_type": "stream",
     "text": [
      "20\n",
      "10\n"
     ]
    }
   ],
   "source": [
    "# Create Node\n",
    "class Node:\n",
    "    def __init__(self, data):\n",
    "        self.data = data\n",
    "        self.head = None\n",
    "\n",
    "class LinkedList:\n",
    "    def __init__(self):\n",
    "        self.head = None\n",
    "    # Traversal operation\n",
    "    def print_ll(self):\n",
    "        n = self.head\n",
    "        if n is None:\n",
    "            print(\"LL is empty\")\n",
    "        else:\n",
    "            while n is not None:\n",
    "                print(n.data)\n",
    "                n = n.ref\n",
    "    # Add/Insert operation\n",
    "    def add_begin(self, data):\n",
    "        new_node = Node(data)\n",
    "        new_node.ref = self.head\n",
    "        self.head = new_node\n",
    "\n",
    "LL1 = LinkedList()\n",
    "LL1.add_begin(10)\n",
    "LL1.add_begin(20)\n",
    "LL1.print_ll()"
   ]
  },
  {
   "cell_type": "code",
   "execution_count": null,
   "id": "a96db1a3",
   "metadata": {},
   "outputs": [],
   "source": []
  }
 ],
 "metadata": {
  "kernelspec": {
   "display_name": "Python 3 (ipykernel)",
   "language": "python",
   "name": "python3"
  },
  "language_info": {
   "codemirror_mode": {
    "name": "ipython",
    "version": 3
   },
   "file_extension": ".py",
   "mimetype": "text/x-python",
   "name": "python",
   "nbconvert_exporter": "python",
   "pygments_lexer": "ipython3",
   "version": "3.10.4"
  }
 },
 "nbformat": 4,
 "nbformat_minor": 5
}
