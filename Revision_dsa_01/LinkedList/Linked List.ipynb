{
 "cells": [
  {
   "cell_type": "markdown",
   "id": "2fef5482",
   "metadata": {},
   "source": [
    "## Singly Linked List"
   ]
  },
  {
   "cell_type": "markdown",
   "id": "de2c1f78",
   "metadata": {},
   "source": [
    "### Create Node"
   ]
  },
  {
   "cell_type": "code",
   "execution_count": 1,
   "id": "b5885d9b",
   "metadata": {},
   "outputs": [
    {
     "name": "stdout",
     "output_type": "stream",
     "text": [
      "<__main__.Node object at 0x0000025D2AF43CA0>\n"
     ]
    }
   ],
   "source": [
    "class Node:\n",
    "    def __init__(self, data):\n",
    "        self.data = data\n",
    "        self.ref = None\n",
    "        \n",
    "node1 = Node(10)\n",
    "print(node1)"
   ]
  },
  {
   "cell_type": "markdown",
   "id": "32778964",
   "metadata": {},
   "source": [
    "### Create class for linked list and perform Traverse operation"
   ]
  },
  {
   "cell_type": "code",
   "execution_count": null,
   "id": "8060dcaa",
   "metadata": {},
   "outputs": [],
   "source": [
    "class LinkedList:\n",
    "    def __init__(self):\n",
    "        self.head = None\n",
    "    # Traversal_operation\n",
    "    def print_ll(self):\n",
    "        n = self.head\n",
    "        if n is None:\n",
    "            print(\"LL is empty.\")\n",
    "        else:\n",
    "            while n is not None:\n",
    "                print(n.data)\n",
    "                n = n.ref\n",
    "LL1 = LinkedList()\n",
    "LL1.print_ll()"
   ]
  },
  {
   "cell_type": "markdown",
   "id": "ba06dae0",
   "metadata": {},
   "source": [
    "### Add / Insert operation"
   ]
  },
  {
   "cell_type": "markdown",
   "id": "92e93f97",
   "metadata": {},
   "source": [
    "#### Add_begin"
   ]
  },
  {
   "cell_type": "code",
   "execution_count": null,
   "id": "e9e6955a",
   "metadata": {},
   "outputs": [],
   "source": [
    "    def add_begin(self, data):\n",
    "        new_node = Node(data)\n",
    "        new_node.ref = self.head\n",
    "        self.head = new_node\n",
    "LL1 = LinkedList()\n",
    "LL1.add_begin(10)\n",
    "LL1.add_begin(20)\n",
    "LL1.print_ll()"
   ]
  },
  {
   "cell_type": "markdown",
   "id": "72b50164",
   "metadata": {},
   "source": [
    "#### Add_end"
   ]
  },
  {
   "cell_type": "code",
   "execution_count": null,
   "id": "30fcfd77",
   "metadata": {},
   "outputs": [],
   "source": [
    "    def add_end(self, data):\n",
    "        new_node = Node(data)\n",
    "        if self.head is None:\n",
    "            self.head = new_node\n",
    "        else:\n",
    "            n = self_head\n",
    "            while n.ref is not None:\n",
    "                n = n.ref\n",
    "            n.ref = new_node\n",
    "LL1.add_end(100)"
   ]
  },
  {
   "cell_type": "markdown",
   "id": "7b29d678",
   "metadata": {},
   "source": [
    "#### Add_after"
   ]
  },
  {
   "cell_type": "code",
   "execution_count": null,
   "id": "611c05cd",
   "metadata": {},
   "outputs": [],
   "source": [
    "    def add_after(self, data, x):\n",
    "        n = self.head\n",
    "        while n in not None:\n",
    "            if x == n.data:\n",
    "                break\n",
    "            n = n.ref\n",
    "        if n is None:\n",
    "            print(\"Node is not present\")\n",
    "        else:\n",
    "            new_node = Node(data)\n",
    "            new_node.ref = n.ref\n",
    "            n.ref = new_node\n",
    "LL1.add_after(10)"
   ]
  },
  {
   "cell_type": "markdown",
   "id": "8395a31c",
   "metadata": {},
   "source": [
    "#### Add_before"
   ]
  },
  {
   "cell_type": "code",
   "execution_count": null,
   "id": "f539feb4",
   "metadata": {},
   "outputs": [],
   "source": [
    "    def add_before(self, data, x):\n",
    "        if self.head is None:                   # if LL is empty\n",
    "            print(\"LL is empty.\")\n",
    "            return\n",
    "        if self.head.data == x:                 # before 1st Node\n",
    "            new_node = Node(data)\n",
    "            new_node.ref = self.head\n",
    "            self.head = new_node\n",
    "            return\n",
    "        n = self.head                           # before rest Nodes\n",
    "        while n.ref is not None:\n",
    "            if n.ref.data == x:\n",
    "                break\n",
    "                n = n.ref\n",
    "            if n.ref is None:\n",
    "                print(\"Node is not present\")\n",
    "            else:\n",
    "                new_node = Node(data)\n",
    "                new_node.ref = n.ref\n",
    "                n.ref = new_node\n",
    "LL1.add_before(20,10)"
   ]
  },
  {
   "cell_type": "markdown",
   "id": "06a67677",
   "metadata": {},
   "source": [
    "#### Insertion in an Empty List"
   ]
  },
  {
   "cell_type": "code",
   "execution_count": null,
   "id": "bcaa1a11",
   "metadata": {},
   "outputs": [],
   "source": [
    "    def insert_empty(self, data):\n",
    "        if self.head is None:\n",
    "            new_node = Node(data)\n",
    "            self.head = new_node\n",
    "        else:\n",
    "            print(\"LL is not empty\")\n",
    "LL1.insert_empty(10)"
   ]
  },
  {
   "cell_type": "markdown",
   "id": "be370600",
   "metadata": {},
   "source": [
    "### Remove / Delete operation"
   ]
  },
  {
   "cell_type": "markdown",
   "id": "d07f14a6",
   "metadata": {},
   "source": [
    "#### At Beginning"
   ]
  },
  {
   "cell_type": "code",
   "execution_count": null,
   "id": "f6464475",
   "metadata": {},
   "outputs": [],
   "source": [
    "    def delete_begin(self):\n",
    "        if self.head is None:\n",
    "            print(\"LL is empty so can't delete the node.\")\n",
    "        else:\n",
    "            self.head = self.head.ref\n",
    "LL1.delet_begin()"
   ]
  },
  {
   "cell_type": "markdown",
   "id": "11c6ecba",
   "metadata": {},
   "source": [
    "#### At End"
   ]
  },
  {
   "cell_type": "code",
   "execution_count": null,
   "id": "60471064",
   "metadata": {},
   "outputs": [],
   "source": [
    "    def delete_end(self):\n",
    "        if self.head is None:\n",
    "            print(\"LL is empty\")\n",
    "        elif self.head.ref is None:\n",
    "            self.head = None\n",
    "        else:\n",
    "            n = self.head\n",
    "            while n.ref.ref is not None:\n",
    "                n = n.ref\n",
    "            n.ref = None\n",
    "LL1.delete_end()"
   ]
  },
  {
   "cell_type": "markdown",
   "id": "1acffa5d",
   "metadata": {},
   "source": [
    "#### Deletion by Value"
   ]
  },
  {
   "cell_type": "code",
   "execution_count": null,
   "id": "f4889bd4",
   "metadata": {},
   "outputs": [],
   "source": [
    "    def delete_by_value(self, x):\n",
    "        if self.head is None:\n",
    "            print(\"LL is empty can't delete the node.\")\n",
    "            return\n",
    "        if self.head.data == x:\n",
    "            self.head = self.head.ref\n",
    "        else:\n",
    "            n = self.head\n",
    "            while n.ref is not None:\n",
    "                if n.ref.data == x:\n",
    "                    break\n",
    "            n = n.ref\n",
    "            if n.ref is None:\n",
    "                print(\"LL is empty can't delete Node\")\n",
    "            else:\n",
    "                n.ref = n.ref.ref\n",
    "LL1.delete_by_value(10)"
   ]
  },
  {
   "cell_type": "markdown",
   "id": "9a9c28a8",
   "metadata": {},
   "source": [
    "### Full Code Singly LL"
   ]
  },
  {
   "cell_type": "code",
   "execution_count": 15,
   "id": "2fb434c1",
   "metadata": {
    "scrolled": true
   },
   "outputs": [
    {
     "name": "stdout",
     "output_type": "stream",
     "text": [
      "10 ---> 30 ---> "
     ]
    }
   ],
   "source": [
    "# Create Node\n",
    "class Node:\n",
    "    def __init__(self, data):\n",
    "        self.data = data\n",
    "        self.ref = None\n",
    "\n",
    "class LinkedList:\n",
    "    def __init__(self):\n",
    "        self.head = None\n",
    "    # Traversal operation\n",
    "    def print_ll(self):\n",
    "        n = self.head\n",
    "        if n is None:\n",
    "            print(\"LL is empty\")\n",
    "        else:\n",
    "            while n is not None:\n",
    "                print(n.data, \"--->\", end = \" \")\n",
    "                n = n.ref\n",
    "    # Add/Insert operation\n",
    "    def add_begin(self, data):\n",
    "        new_node = Node(data)\n",
    "        new_node.ref = self.head\n",
    "        self.head = new_node\n",
    "    \n",
    "    def add_end(self, data):\n",
    "        new_node = Node(data)\n",
    "        if self.head is None:\n",
    "            new_node = self.head\n",
    "        else:\n",
    "            n = self.head\n",
    "            while n.ref is not None:\n",
    "                n = n.ref\n",
    "            n.ref = new_node\n",
    "    \n",
    "    def add_after(self, data, x):\n",
    "        n = self.head\n",
    "        while n is not None:\n",
    "            if x == n.data:\n",
    "                break\n",
    "            else:\n",
    "                n = n.ref\n",
    "        if n is None:\n",
    "            print(\"Node is not present.\")\n",
    "        else:\n",
    "            new_node = Node(data)\n",
    "            new_node.ref = n.ref\n",
    "            # new_node = n.ref  is incorrect\n",
    "            n.ref = new_node\n",
    "    def add_before(self, data, x):\n",
    "        if self.head is None:\n",
    "            print(\"LL is empty.\")\n",
    "            return\n",
    "        if self.head.data == x:\n",
    "            new_node = Node(data)\n",
    "            new_node.ref = self.head\n",
    "            self.head = new_node\n",
    "            return\n",
    "        n = self.head\n",
    "        while n.ref is not None:\n",
    "            if n.ref.data == x:\n",
    "                break\n",
    "            n = n.ref\n",
    "        if n.ref is None:\n",
    "            print(\"Node not found\")\n",
    "        else:\n",
    "            new_node = Node(data)\n",
    "            new_node.ref = n.ref\n",
    "            n.ref = new_node\n",
    "    def insert_empty(self, data):\n",
    "        if self.head is None:\n",
    "            new_node = Node(data)\n",
    "            self.head = new_node\n",
    "        else:\n",
    "            print(\"LL is not empty\")\n",
    "    \n",
    "    def delete_begin(self):\n",
    "        if self.head is None:\n",
    "            print(\"LL is empty so we can't delete the node.\")\n",
    "        else:\n",
    "            self.head = self.head.ref\n",
    "    def delete_end(self):\n",
    "        if self.head is None:\n",
    "            print(\"LL is empty so can't delete the Node.\")\n",
    "        elif self.head.ref is None:\n",
    "            self.head = None\n",
    "        else:\n",
    "            n = self.head\n",
    "            while n.ref.ref is not None:\n",
    "                n = n.ref\n",
    "            n.ref = None\n",
    "    def delete_by_value(self, x):\n",
    "        if self.head is None:\n",
    "            print(\"LL is empty so can't delete Node\")\n",
    "            return\n",
    "        if self.head.data == x:\n",
    "            self.head = self.head.ref\n",
    "        else:\n",
    "            n = self.head\n",
    "            while n.ref is not None:\n",
    "                if n.ref.data == x:\n",
    "                    break\n",
    "                n = n.ref\n",
    "            if n.ref is None:\n",
    "                print(\"Node is not present in the LL\")\n",
    "            else:\n",
    "                n.ref = n.ref.ref\n",
    "                \n",
    "LL1 = LinkedList()\n",
    "LL1.add_begin(10)\n",
    "LL1.add_end(25)\n",
    "LL1.add_after(52, 25)\n",
    "LL1.add_begin(20)\n",
    "LL1.add_before(30,52)\n",
    "LL1.delete_end()\n",
    "LL1.delete_begin()\n",
    "LL1.delete_by_value(25)\n",
    "LL1.print_ll()"
   ]
  },
  {
   "cell_type": "markdown",
   "id": "3cf9548f",
   "metadata": {},
   "source": [
    "## Doubly Linked List"
   ]
  },
  {
   "cell_type": "markdown",
   "id": "bff2358e",
   "metadata": {},
   "source": [
    "### Create Node"
   ]
  },
  {
   "cell_type": "code",
   "execution_count": null,
   "id": "9909e064",
   "metadata": {},
   "outputs": [],
   "source": [
    "class Node:\n",
    "    def __init__(self, data):\n",
    "        self.data = data\n",
    "        self.pref = None\n",
    "        self.nref = None"
   ]
  },
  {
   "cell_type": "markdown",
   "id": "fa5534fb",
   "metadata": {},
   "source": [
    "### Create Doubly_LL & Traversal operation"
   ]
  },
  {
   "cell_type": "code",
   "execution_count": null,
   "id": "0a9f6e5e",
   "metadata": {},
   "outputs": [],
   "source": [
    "class doublyLL:\n",
    "    def __init__(self):\n",
    "        self.head = None\n",
    "    def print_ll(self):                            # Forward traversal\n",
    "        if self.head is None:\n",
    "            print(\"DLL is empty.\")\n",
    "        else:\n",
    "            n = self.head\n",
    "            while n is not None:\n",
    "                print(n.data, \"--->\", end = \" \")\n",
    "                n = n.nref\n",
    "    def print_ll_reverse(self):                    # Backward traversal\n",
    "        if self.head is None:\n",
    "            print(\"DLL is empty.\")\n",
    "        else:\n",
    "            n = self.head\n",
    "            while n.nref is not None:\n",
    "                n = n.nref\n",
    "            while n is not None:\n",
    "                print(n.data, \"--->\", end = \" \")\n",
    "                n = n.pref\n",
    "dll = doublyLL()\n",
    "dll.print_ll()"
   ]
  },
  {
   "cell_type": "markdown",
   "id": "320d28a4",
   "metadata": {},
   "source": [
    "### Insert Operation"
   ]
  },
  {
   "cell_type": "markdown",
   "id": "689fda64",
   "metadata": {},
   "source": [
    "#### When LL is empty"
   ]
  },
  {
   "cell_type": "code",
   "execution_count": null,
   "id": "c2e1a340",
   "metadata": {},
   "outputs": [],
   "source": [
    "    def insert_empty(self, data):\n",
    "        if self.head is None:\n",
    "            new_node = Node(data)\n",
    "            self.head = new_node\n",
    "        else:\n",
    "            print(\"LL is not empty\")\n",
    "dll.insert_empty(10)"
   ]
  },
  {
   "cell_type": "markdown",
   "id": "d5cf6d9e",
   "metadata": {},
   "source": [
    "#### Add at beginning"
   ]
  },
  {
   "cell_type": "code",
   "execution_count": null,
   "id": "63c5a2ff",
   "metadata": {},
   "outputs": [],
   "source": [
    "    def add_begin(self, data):\n",
    "            new_node = Node(data)\n",
    "            if self.head is None:\n",
    "                self.head = new_node              # new_node = self.head \"This is an incorrect syntax\"\n",
    "            else:\n",
    "                new_node.nref = self.head\n",
    "                self.head.pref = new_node\n",
    "                self.head = new_node\n",
    "dll.add_begin()"
   ]
  },
  {
   "cell_type": "markdown",
   "id": "77c9a70a",
   "metadata": {},
   "source": [
    "#### Add at end"
   ]
  },
  {
   "cell_type": "code",
   "execution_count": null,
   "id": "5f88407e",
   "metadata": {},
   "outputs": [],
   "source": [
    "    def add_end(self, data):\n",
    "        new_node = Node(data)\n",
    "        if self.head is None:\n",
    "            self.head = new_node\n",
    "        else:\n",
    "            while n.nref is not None:\n",
    "                n = n.nref\n",
    "            new_node.pref = n\n",
    "            n.nref = new_node\n",
    "dll.add_end()"
   ]
  },
  {
   "cell_type": "markdown",
   "id": "52369d5b",
   "metadata": {},
   "source": [
    "#### Add after a node"
   ]
  },
  {
   "cell_type": "code",
   "execution_count": null,
   "id": "abbf469d",
   "metadata": {},
   "outputs": [],
   "source": [
    "    def add_after(self, data, x):\n",
    "        if self.head is None:\n",
    "            print(\"LL is empty\")\n",
    "        else:\n",
    "            n = self.head\n",
    "            while n is not None:\n",
    "                if n.data == x:\n",
    "                    break\n",
    "                n = n.nref\n",
    "            if n is None:\n",
    "                print(\"Given node is not present in the DLL\")\n",
    "            else:\n",
    "                new_node = Node(data)\n",
    "                new_node.nref = n.nref\n",
    "                new_node.pref = n\n",
    "                if n.nref is not None:\n",
    "                    n.nref.pref = new_node\n",
    "                n.nref = new_node"
   ]
  },
  {
   "cell_type": "markdown",
   "id": "074644ce",
   "metadata": {},
   "source": [
    "#### Add before a node"
   ]
  },
  {
   "cell_type": "code",
   "execution_count": null,
   "id": "1ac1a62b",
   "metadata": {},
   "outputs": [],
   "source": [
    "    def add_before(self, data, x):\n",
    "        if self.head is None:\n",
    "            print(\"LL is empty\")\n",
    "        else:\n",
    "            n = self.head\n",
    "            while n is not None:\n",
    "                if n.data == x:\n",
    "                    break\n",
    "                n = n.nref\n",
    "            if n is None:\n",
    "                print(\"Given node is not present in the DLL\")\n",
    "            else:\n",
    "                new_node = Node(data)\n",
    "                new_node.nref = n\n",
    "                new_node.pref = n.pref\n",
    "                if n.pref is not None:\n",
    "                    n.pref.nref = new_node\n",
    "                else:\n",
    "                    self.head = new_node\n",
    "                n.pref = new_node\n",
    "dll.add_after(10, 4)"
   ]
  },
  {
   "cell_type": "markdown",
   "id": "7e41932e",
   "metadata": {},
   "source": [
    "### Delete Operation"
   ]
  },
  {
   "cell_type": "markdown",
   "id": "f315ee9b",
   "metadata": {},
   "source": [
    "#### At Beginning"
   ]
  },
  {
   "cell_type": "code",
   "execution_count": null,
   "id": "6fd5482c",
   "metadata": {},
   "outputs": [],
   "source": [
    "    def delete_begin(self):\n",
    "        if self.head is None:\n",
    "            print(\"DLL is empty can't delete\")\n",
    "            return\n",
    "        if self.head.nref is None:\n",
    "            self.head = None\n",
    "            print(\"DLL is empty after deleting the only available node\")\n",
    "        else:\n",
    "            self.head = self.head.nref\n",
    "            self.head.pref = None\n",
    "dll.delete_begin()"
   ]
  },
  {
   "cell_type": "markdown",
   "id": "a86f6108",
   "metadata": {},
   "source": [
    "#### At End"
   ]
  },
  {
   "cell_type": "code",
   "execution_count": null,
   "id": "be5201cc",
   "metadata": {},
   "outputs": [],
   "source": [
    "    def delete_end(self):\n",
    "        if self.head is None:\n",
    "            print(\"DLL is empty can't delete\")\n",
    "            return\n",
    "        if self.head.nref is None:\n",
    "            self.head = None\n",
    "            print(\"DLL is empty after deleting the only available node\")\n",
    "        else:\n",
    "            n = self.head\n",
    "            while n.nref is not None:\n",
    "                n = n.nref\n",
    "            n.pref.nref = None\n",
    "dll.delete_end()"
   ]
  },
  {
   "cell_type": "markdown",
   "id": "e0bc6f06",
   "metadata": {},
   "source": [
    "#### Any Node"
   ]
  },
  {
   "cell_type": "code",
   "execution_count": null,
   "id": "09069d3d",
   "metadata": {},
   "outputs": [],
   "source": [
    "    def delete_by_value(self, x):\n",
    "        if self.head is None:\n",
    "            print(\"DLL is empty\")\n",
    "            return\n",
    "        if self.head.nref is None:\n",
    "            if self.head.nref == x:\n",
    "                self.head = None\n",
    "            else:\n",
    "                print(x, \"not present in DLL\")\n",
    "            return\n",
    "        if self.head.nref is not None:\n",
    "            if self.head == x:\n",
    "                self.head = self.head.nref\n",
    "                self.head.pref = None\n",
    "                return\n",
    "        n = self.head\n",
    "        while n.nref is not None:\n",
    "            if n.data == x:\n",
    "                break\n",
    "            n = n.nref\n",
    "        if n.nref is not None:\n",
    "            n.nref.pref = n.pref\n",
    "            n.pref.nref = n.nref\n",
    "        else:\n",
    "            if n.data == x:\n",
    "                n.pref.nref = None\n",
    "            else:\n",
    "                print(x, \"is not present in the DLL\")"
   ]
  },
  {
   "cell_type": "markdown",
   "id": "b53c8448",
   "metadata": {},
   "source": [
    "#### Full Code of DLL"
   ]
  },
  {
   "cell_type": "code",
   "execution_count": 1,
   "id": "adbc7259",
   "metadata": {},
   "outputs": [
    {
     "ename": "IndentationError",
     "evalue": "expected an indented block after function definition on line 52 (723280943.py, line 54)",
     "output_type": "error",
     "traceback": [
      "\u001b[1;36m  Input \u001b[1;32mIn [1]\u001b[1;36m\u001b[0m\n\u001b[1;33m    dll = doublyLL()\u001b[0m\n\u001b[1;37m                    ^\u001b[0m\n\u001b[1;31mIndentationError\u001b[0m\u001b[1;31m:\u001b[0m expected an indented block after function definition on line 52\n"
     ]
    }
   ],
   "source": [
    "class Node:\n",
    "    def __init__(self, data):\n",
    "        self.data = data\n",
    "        self.nref = None\n",
    "        self.pref = None\n",
    "class doublyLL:\n",
    "    def __init__(self):\n",
    "        self.head = None\n",
    "    def print_ll(self):\n",
    "        if self.head is None:\n",
    "            print(\"DLL is empty\")\n",
    "        else:\n",
    "            n = self.head\n",
    "            while n is not None:\n",
    "                print(n.data, \"--->\", end = \" \")\n",
    "                n = n.nref\n",
    "    def print_ll_reverse(self):\n",
    "        print()\n",
    "        if self.head is None:\n",
    "            print(\"DLL is empty\")\n",
    "        else:\n",
    "            n = self.head\n",
    "            while n.nref is not None:\n",
    "                n = n.nref\n",
    "            while n is not None:\n",
    "                print(n.data, \"--->\", end = \" \")\n",
    "                n = n.pref\n",
    "    def insert_empty(self, data):\n",
    "        if self.head is None:\n",
    "            new_node = Node(data)\n",
    "            self.head = new_node\n",
    "        else:\n",
    "            print(\"LL is not empty\")\n",
    "    def add_begin(self, data):\n",
    "        new_node = Node(data)\n",
    "        if self.head is None:\n",
    "            self.head = new_node\n",
    "        else:\n",
    "            new_node.nref = self.head\n",
    "            self.head.pref = new_node\n",
    "            self.head = new_node\n",
    "    def add_end(self, data):\n",
    "        new_node = Node(data)\n",
    "        if self.head is None:\n",
    "            self.head = new_node \n",
    "        else:\n",
    "            n = self.head\n",
    "            while n.nref is not None:\n",
    "                n = n.nref\n",
    "            n.nref = new_node\n",
    "            new_node.pref = n\n",
    "                        \n",
    "dll = doublyLL()\n",
    "dll.insert_empty(10)\n",
    "dll.add_begin(20)\n",
    "dll.add_end(100)\n",
    "dll.print_ll()\n",
    "dll.print_ll_reverse()"
   ]
  },
  {
   "cell_type": "code",
   "execution_count": null,
   "id": "1d9225f8",
   "metadata": {},
   "outputs": [],
   "source": []
  }
 ],
 "metadata": {
  "kernelspec": {
   "display_name": "Python 3 (ipykernel)",
   "language": "python",
   "name": "python3"
  },
  "language_info": {
   "codemirror_mode": {
    "name": "ipython",
    "version": 3
   },
   "file_extension": ".py",
   "mimetype": "text/x-python",
   "name": "python",
   "nbconvert_exporter": "python",
   "pygments_lexer": "ipython3",
   "version": "3.10.4"
  }
 },
 "nbformat": 4,
 "nbformat_minor": 5
}
