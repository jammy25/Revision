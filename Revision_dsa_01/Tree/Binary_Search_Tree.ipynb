{
 "cells": [
  {
   "cell_type": "markdown",
   "id": "d6cfe934",
   "metadata": {},
   "source": [
    "## Implementation of BST"
   ]
  },
  {
   "cell_type": "code",
   "execution_count": 7,
   "id": "6e8a6a6d",
   "metadata": {},
   "outputs": [
    {
     "name": "stdout",
     "output_type": "stream",
     "text": [
      "10\n",
      "None\n",
      "None\n"
     ]
    }
   ],
   "source": [
    "class BST:\n",
    "    def __init__(self, key):\n",
    "        self.key = key\n",
    "        self.lchild = None\n",
    "        self.rchild = None\n",
    "    \n",
    "root = BST(10)\n",
    "print(root.key)\n",
    "print(root.lchild)\n",
    "print(root.rchild)"
   ]
  },
  {
   "cell_type": "markdown",
   "id": "aa4b139c",
   "metadata": {},
   "source": [
    "## Insertion"
   ]
  },
  {
   "cell_type": "code",
   "execution_count": 1,
   "id": "5771323f",
   "metadata": {},
   "outputs": [
    {
     "name": "stdout",
     "output_type": "stream",
     "text": [
      "10\n",
      "<__main__.BST object at 0x0000023CA75900A0>\n",
      "None\n"
     ]
    }
   ],
   "source": [
    "class BST:\n",
    "    def __init__(self, key):\n",
    "        self.key = key\n",
    "        self.lchild = None\n",
    "        self.rchild = None\n",
    "    def insert(self, data):\n",
    "        if self.key is None:\n",
    "            self.key = data\n",
    "            return\n",
    "        if self.key == data:\n",
    "            return\n",
    "        if self.key > data:\n",
    "            if self.lchild:\n",
    "                self.lchild.insert = data\n",
    "            else:\n",
    "                self.lchild = BST(data)\n",
    "        else:\n",
    "            if self.lchild:\n",
    "                self.lchild.insert = data\n",
    "            else:\n",
    "                self.lchild = BST(data)\n",
    "    \n",
    "root = BST(10)\n",
    "\n",
    "list1 = [4, 20, 5, 4, 13, 10]\n",
    "for i in list1:\n",
    "    root.insert(i)\n",
    "\n",
    "print(root.key)\n",
    "print(root.lchild)\n",
    "print(root.rchild)"
   ]
  },
  {
   "cell_type": "markdown",
   "id": "55ed6b2d",
   "metadata": {},
   "source": [
    "## Search"
   ]
  },
  {
   "cell_type": "code",
   "execution_count": 16,
   "id": "58140d8e",
   "metadata": {},
   "outputs": [
    {
     "name": "stdout",
     "output_type": "stream",
     "text": [
      "Node is not present...\n"
     ]
    }
   ],
   "source": [
    "class BST:\n",
    "    def __init__(self, key):\n",
    "        self.key = key\n",
    "        self.lchild = None\n",
    "        self.rchild = None\n",
    "    def insert(self, data):\n",
    "        if self.key is None:\n",
    "            self.key = data\n",
    "            return\n",
    "        if self.key == data:\n",
    "            return\n",
    "        if self.key > data:\n",
    "            if self.lchild:\n",
    "                self.lchild.insert(data)\n",
    "            else:\n",
    "                self.lchild = BST(data)\n",
    "        else:\n",
    "            if self.lchild:\n",
    "                self.lchild.insert(data)\n",
    "            else:\n",
    "                self.lchild = BST(data)\n",
    "    def search(self, data):\n",
    "        if self.key == data:\n",
    "            print(\"Node is found.\")\n",
    "            return\n",
    "        if data < self.key:\n",
    "            if self.lchild:\n",
    "                self.lchild.search(data)\n",
    "            else:\n",
    "                print(\"Node is not present.\")\n",
    "        else:\n",
    "            if self.rchild:\n",
    "                self.rchild.search(data)\n",
    "            else:\n",
    "                print(\"Node is not present...\")\n",
    "    \n",
    "root = BST(10)\n",
    "\n",
    "list1 = [4, 20, 5, 13, 22]\n",
    "for i in list1:\n",
    "    root.insert(i)\n",
    "\n",
    "root.search(20)\n",
    "# print(root.key)\n",
    "# print(root.lchild)\n",
    "# print(root.rchild)"
   ]
  },
  {
   "cell_type": "markdown",
   "id": "1eb60a53",
   "metadata": {},
   "source": [
    "## Traversal"
   ]
  },
  {
   "cell_type": "markdown",
   "id": "b0ec165f",
   "metadata": {},
   "source": [
    "#### Preorder"
   ]
  },
  {
   "cell_type": "code",
   "execution_count": 45,
   "id": "4f28f8dd",
   "metadata": {},
   "outputs": [
    {
     "name": "stdout",
     "output_type": "stream",
     "text": [
      "Node is not present..\n",
      "Node is not found.\n",
      "10\n",
      "5\n",
      "4\n",
      "55\n",
      "34\n",
      "12\n",
      "98\n"
     ]
    }
   ],
   "source": [
    "class BST:\n",
    "    def __init__(self, key):\n",
    "        self.key = key\n",
    "        self.lchild = None\n",
    "        self.rchild = None\n",
    "    def insert(self, data):\n",
    "        if self.key is None:\n",
    "            self.key = data\n",
    "            return\n",
    "        if self.key == data:\n",
    "            return\n",
    "        if self.key > data:\n",
    "            if self.lchild:\n",
    "                self.lchild.insert(data)\n",
    "            else:\n",
    "                self.lchild = BST(data)\n",
    "        else:\n",
    "            if self.rchild:\n",
    "                self.rchild.insert(data)\n",
    "            else:\n",
    "                self.rchild = BST(data)\n",
    "    def search(self, data):\n",
    "        if self.key == data:\n",
    "            print(\"Node is found\")\n",
    "            return\n",
    "        if self.key > data:\n",
    "            if self.lchild:\n",
    "                self.lchild.search(data)\n",
    "            else:\n",
    "                print(\"Node is not found.\")\n",
    "        else:\n",
    "            if self.rchild:\n",
    "                self.rchild.search(data)\n",
    "            else:\n",
    "                print(\"Node is not present..\")\n",
    "    def preorder(self):\n",
    "        print(self.key)\n",
    "        if self.lchild:\n",
    "            self.lchild.preorder()\n",
    "        if self.rchild:\n",
    "            self.rchild.preorder()\n",
    "\n",
    "root = BST(10)\n",
    "\n",
    "list = [5, 4, 55, 34, 98, 12]\n",
    "for i in list:\n",
    "    root.insert(i)\n",
    "\n",
    "root.search(9)\n",
    "root.search(11)\n",
    "root.preorder()"
   ]
  },
  {
   "cell_type": "code",
   "execution_count": null,
   "id": "41d5c683",
   "metadata": {},
   "outputs": [],
   "source": []
  }
 ],
 "metadata": {
  "kernelspec": {
   "display_name": "Python 3 (ipykernel)",
   "language": "python",
   "name": "python3"
  },
  "language_info": {
   "codemirror_mode": {
    "name": "ipython",
    "version": 3
   },
   "file_extension": ".py",
   "mimetype": "text/x-python",
   "name": "python",
   "nbconvert_exporter": "python",
   "pygments_lexer": "ipython3",
   "version": "3.10.4"
  }
 },
 "nbformat": 4,
 "nbformat_minor": 5
}
