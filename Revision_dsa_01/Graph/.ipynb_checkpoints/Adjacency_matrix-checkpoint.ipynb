{
 "cells": [
  {
   "cell_type": "markdown",
   "id": "6cc00eae",
   "metadata": {},
   "source": [
    "### addNode"
   ]
  },
  {
   "cell_type": "code",
   "execution_count": 1,
   "id": "c1cdb134",
   "metadata": {},
   "outputs": [
    {
     "name": "stdout",
     "output_type": "stream",
     "text": [
      "  0   0 \n",
      "  0   0 \n"
     ]
    }
   ],
   "source": [
    "def add_node(v):\n",
    "    global node_count\n",
    "    if v in nodes:\n",
    "        print(v, \"is already present in the nodes.\")\n",
    "    else:\n",
    "        node_count = node_count + 1\n",
    "        nodes.append(v)\n",
    "        for n in graph:\n",
    "            n.append(0)\n",
    "        temp = []\n",
    "        for i in range(node_count):\n",
    "            temp.append(0)\n",
    "        graph.append(temp)\n",
    "def print_graph():\n",
    "    for i in range(node_count):\n",
    "        for j in range(node_count):\n",
    "            print(format(graph[i][j], \"3\"), end = \" \")\n",
    "        print()\n",
    "        \n",
    "graph = []\n",
    "nodes = []\n",
    "node_count = 0\n",
    "add_node(\"A\")\n",
    "add_node(\"B\")\n",
    "\n",
    "print_graph()"
   ]
  },
  {
   "cell_type": "markdown",
   "id": "8be56b42",
   "metadata": {},
   "source": [
    "### addEdge"
   ]
  },
  {
   "cell_type": "code",
   "execution_count": 2,
   "id": "ee9f8194",
   "metadata": {},
   "outputs": [
    {
     "name": "stdout",
     "output_type": "stream",
     "text": [
      "0   10  4   \n",
      "0   0   0   \n",
      "0   0   0   \n"
     ]
    }
   ],
   "source": [
    "def add_node(v):\n",
    "    global node_count\n",
    "    if v in nodes:\n",
    "        print(\"Nodes already present in the graph\")\n",
    "    else:\n",
    "        node_count += 1\n",
    "        nodes.append(v)\n",
    "        for n in graph:\n",
    "            n.append(0)\n",
    "        temp = []\n",
    "        for i in range(node_count):\n",
    "            temp.append(0)\n",
    "        graph.append(temp)\n",
    "def add_edge(v1, v2, cost):\n",
    "    if v1 not in nodes:\n",
    "        print(v1, \"not present in the graph\")\n",
    "    elif v2 not in nodes:\n",
    "        print(v2, \"not present in the graph\")\n",
    "    else:\n",
    "        index1 = nodes.index(v1)\n",
    "        index2 = nodes.index(v2)\n",
    "        graph[index1][index2] = cost\n",
    "#         graph[index2][index1] = 1\n",
    "        \n",
    "def print_graph():\n",
    "    for i in range(node_count):\n",
    "        for j in range(node_count):\n",
    "            print(format(graph[i][j], \"<3\"), end = ' ')\n",
    "        print()\n",
    "    \n",
    "nodes = []\n",
    "graph = []\n",
    "node_count = 0\n",
    "\n",
    "add_node(\"A\")\n",
    "add_node(\"B\")\n",
    "add_node(\"C\")\n",
    "add_edge(\"A\", \"B\", 10)\n",
    "add_edge(\"A\", \"C\", 4)\n",
    "print_graph()\n"
   ]
  },
  {
   "cell_type": "markdown",
   "id": "619085ce",
   "metadata": {},
   "source": [
    "### deleteNode"
   ]
  },
  {
   "cell_type": "code",
   "execution_count": 25,
   "id": "eb69c9cb",
   "metadata": {},
   "outputs": [
    {
     "name": "stdout",
     "output_type": "stream",
     "text": [
      "Before: \n",
      "0   10  4   \n",
      "0   0   2   \n",
      "0   0   0   \n",
      "['A', 'B', 'C']\n",
      "After: \n",
      "0   0   \n",
      "0   0   \n",
      "['B', 'C']\n"
     ]
    }
   ],
   "source": [
    "def add_node(v):\n",
    "    global node_count\n",
    "    if v in nodes:\n",
    "        print(\"Node already present\")\n",
    "    else:\n",
    "        node_count += 1\n",
    "        nodes.append(v)\n",
    "        for n in graph:\n",
    "            n.append(0)\n",
    "        temp = []\n",
    "        for i in range(node_count):\n",
    "            temp.append(0)\n",
    "        graph.append(temp)\n",
    "def add_edge(v1, v2, cost):\n",
    "    if v1 not in nodes:\n",
    "        print(v1, \"not present\")\n",
    "    elif v2 not in nodes:\n",
    "        print(v2, \"not present\")\n",
    "    else:\n",
    "        index1 = nodes.index(v1)\n",
    "        index2 = nodes.index(v2)\n",
    "        graph[index1][index2] = cost\n",
    "def del_node(v):\n",
    "    global node_count\n",
    "    if v not in nodes:\n",
    "        print(v, \"not present\")\n",
    "    else:\n",
    "        index1 = nodes.index(v)\n",
    "        node_count -= 1\n",
    "        nodes.remove(v)\n",
    "        graph.pop(index1)\n",
    "        for i in graph:\n",
    "            i.pop(index1)\n",
    "def del_edge(v1, v2):\n",
    "    if v1 not in nodes:\n",
    "        print(v1, \"not present\")\n",
    "    elif v1 not in nodes:\n",
    "        print(v1, \"not present\")\n",
    "    else:\n",
    "        index1 = nodes.index(v1)\n",
    "        index2 = nodes.index(v2)\n",
    "        graph[index1][index2] = 0\n",
    "        graph[index1][index2] = 0\n",
    "def print_graph():\n",
    "    for i in range(node_count):\n",
    "        for j in range(node_count):\n",
    "            print(format(graph[i][j], \"<3\"), end =\" \")\n",
    "        print()\n",
    "    \n",
    "graph = []\n",
    "nodes = []\n",
    "node_count = 0\n",
    "\n",
    "add_node(\"A\")\n",
    "add_node(\"B\")\n",
    "add_node(\"C\")\n",
    "\n",
    "add_edge(\"A\", \"B\", 10)\n",
    "add_edge(\"A\", \"C\", 4)\n",
    "add_edge(\"B\", \"C\", 2)\n",
    "\n",
    "print(\"Before: \")\n",
    "print_graph()\n",
    "print(nodes)\n",
    "\n",
    "del_node(\"A\")\n",
    "del_edge(\"B\", \"C\")\n",
    "\n",
    "print(\"After: \")\n",
    "print_graph()\n",
    "print(nodes)"
   ]
  }
 ],
 "metadata": {
  "kernelspec": {
   "display_name": "Python 3 (ipykernel)",
   "language": "python",
   "name": "python3"
  },
  "language_info": {
   "codemirror_mode": {
    "name": "ipython",
    "version": 3
   },
   "file_extension": ".py",
   "mimetype": "text/x-python",
   "name": "python",
   "nbconvert_exporter": "python",
   "pygments_lexer": "ipython3",
   "version": "3.9.10"
  }
 },
 "nbformat": 4,
 "nbformat_minor": 5
}
