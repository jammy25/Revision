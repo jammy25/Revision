{
 "cells": [
  {
   "cell_type": "markdown",
   "id": "956681af",
   "metadata": {},
   "source": [
    "### Recursive approach in Adjacency list"
   ]
  },
  {
   "cell_type": "code",
   "execution_count": 10,
   "id": "544f06bf",
   "metadata": {},
   "outputs": [
    {
     "name": "stdout",
     "output_type": "stream",
     "text": [
      "{'A': ['B', 'C', 'D'], 'B': ['A', 'E', 'D'], 'C': ['A', 'D'], 'D': ['A', 'B', 'C', 'E'], 'E': ['B', 'D']}\n",
      "DFS: \n",
      "A B E D C "
     ]
    }
   ],
   "source": [
    "def add_node(v):\n",
    "    if v in graph:\n",
    "        print(v, \"is already present in the graph\")\n",
    "    else:\n",
    "        graph[v] = []\n",
    "def add_edge(v1, v2):\n",
    "    if v1 not in graph:\n",
    "        print(v1, \"is not present in the graph\")\n",
    "    elif v2 not in graph:\n",
    "        print(v2, \"is not present in the graph\")\n",
    "    else:\n",
    "#         list1 = [v2]\n",
    "#         list2 = [v1]\n",
    "        graph[v1].append(v2)\n",
    "        graph[v2].append(v1)\n",
    "def DFS(node, visited, graph):\n",
    "    if node not in graph:\n",
    "        print(\"node is not present\")\n",
    "        return\n",
    "    if node not in visited:\n",
    "        print(node, end = ' ')\n",
    "        visited.add(node)\n",
    "        for i in graph[node]:\n",
    "            DFS(i, visited, graph)\n",
    "            \n",
    "visited = set()\n",
    "graph = {}\n",
    "add_node(\"A\")\n",
    "add_node(\"B\")\n",
    "add_node(\"C\")\n",
    "add_node(\"D\")\n",
    "add_node(\"E\")\n",
    "\n",
    "add_edge(\"A\", \"B\")\n",
    "add_edge(\"B\", \"E\")\n",
    "add_edge(\"A\", \"C\")\n",
    "add_edge(\"A\", \"D\")\n",
    "add_edge(\"B\", \"D\")\n",
    "add_edge(\"C\", \"D\")\n",
    "add_edge(\"E\", \"D\")\n",
    "print(graph)\n",
    "print(\"DFS: \")\n",
    "DFS(\"A\", visited, graph)"
   ]
  }
 ],
 "metadata": {
  "kernelspec": {
   "display_name": "Python 3 (ipykernel)",
   "language": "python",
   "name": "python3"
  },
  "language_info": {
   "codemirror_mode": {
    "name": "ipython",
    "version": 3
   },
   "file_extension": ".py",
   "mimetype": "text/x-python",
   "name": "python",
   "nbconvert_exporter": "python",
   "pygments_lexer": "ipython3",
   "version": "3.9.10"
  }
 },
 "nbformat": 4,
 "nbformat_minor": 5
}
