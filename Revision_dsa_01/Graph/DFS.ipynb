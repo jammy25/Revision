{
 "cells": [
  {
   "cell_type": "markdown",
   "id": "956681af",
   "metadata": {},
   "source": [
    "### Recursive approach in Adjacency list"
   ]
  },
  {
   "cell_type": "code",
   "execution_count": null,
   "id": "544f06bf",
   "metadata": {},
   "outputs": [],
   "source": [
    "def add_node(v):\n",
    "    if v in graph:\n",
    "        print(v, \"is already present in the graph\")\n",
    "    else:\n",
    "        graph[v] = []\n",
    "def add_edge(v1, v2, cost):\n",
    "    if v1 not in graph:\n",
    "        print(v1, \"is not present in the graph\")\n",
    "    elif v2 not in graph:\n",
    "        print(v2, \"is not present in the graph\")\n",
    "    else:\n",
    "        list1 = [v2, cost]\n",
    "        list2 = [v1, cost]\n",
    "        graph[v1].append(list1)\n",
    "        graph[v2].append(list2)\n",
    "def DFS(node, visited, graph):\n",
    "    "
   ]
  }
 ],
 "metadata": {
  "kernelspec": {
   "display_name": "Python 3 (ipykernel)",
   "language": "python",
   "name": "python3"
  },
  "language_info": {
   "codemirror_mode": {
    "name": "ipython",
    "version": 3
   },
   "file_extension": ".py",
   "mimetype": "text/x-python",
   "name": "python",
   "nbconvert_exporter": "python",
   "pygments_lexer": "ipython3",
   "version": "3.9.10"
  }
 },
 "nbformat": 4,
 "nbformat_minor": 5
}
