{
 "cells": [
  {
   "cell_type": "markdown",
   "id": "bad1500b",
   "metadata": {},
   "source": [
    "### addList"
   ]
  },
  {
   "cell_type": "code",
   "execution_count": 4,
   "id": "d36ef75e",
   "metadata": {},
   "outputs": [
    {
     "name": "stdout",
     "output_type": "stream",
     "text": [
      "{'A': [], 'B': []}\n"
     ]
    }
   ],
   "source": [
    "def add_node(v):\n",
    "    if v in graph:\n",
    "        print(v, \"is already present in the graph\")\n",
    "    else:\n",
    "        graph[v] = []\n",
    "        \n",
    "graph = {}\n",
    "add_node(\"A\")\n",
    "add_node(\"B\")\n",
    "print(graph)"
   ]
  },
  {
   "cell_type": "markdown",
   "id": "349829da",
   "metadata": {},
   "source": [
    "### addEdge"
   ]
  },
  {
   "cell_type": "code",
   "execution_count": 14,
   "id": "d1c6eb10",
   "metadata": {},
   "outputs": [
    {
     "name": "stdout",
     "output_type": "stream",
     "text": [
      "{'A': [['B', 10]], 'B': [['A', 10]]}\n"
     ]
    }
   ],
   "source": [
    "def add_node(v):\n",
    "    if v in graph:\n",
    "        print(v, \"is already present in the graph\")\n",
    "    else:\n",
    "        graph[v] = []\n",
    "def add_edge(v1, v2, cost):\n",
    "    if v1 not in graph:\n",
    "        print(v1, \"is not present in the graph\")\n",
    "    elif v2 not in graph:\n",
    "        print(v2, \"is not present in the graph\")\n",
    "    else:\n",
    "        list1 = [v2, cost]\n",
    "        list2 = [v1, cost]\n",
    "        graph[v1].append(list1)\n",
    "        graph[v2].append(list2)\n",
    "            \n",
    "    \n",
    "graph = {}\n",
    "add_node(\"A\")\n",
    "add_node(\"B\")\n",
    "add_edge(\"A\", \"B\", 10)\n",
    "print(graph)"
   ]
  }
 ],
 "metadata": {
  "kernelspec": {
   "display_name": "Python 3 (ipykernel)",
   "language": "python",
   "name": "python3"
  },
  "language_info": {
   "codemirror_mode": {
    "name": "ipython",
    "version": 3
   },
   "file_extension": ".py",
   "mimetype": "text/x-python",
   "name": "python",
   "nbconvert_exporter": "python",
   "pygments_lexer": "ipython3",
   "version": "3.9.10"
  }
 },
 "nbformat": 4,
 "nbformat_minor": 5
}
