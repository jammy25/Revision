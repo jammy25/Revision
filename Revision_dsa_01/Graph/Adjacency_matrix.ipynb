{
 "cells": [
  {
   "cell_type": "markdown",
   "id": "d111704d",
   "metadata": {},
   "source": [
    "## Adjacency Matrix"
   ]
  },
  {
   "cell_type": "code",
   "execution_count": 1,
   "id": "c1cdb134",
   "metadata": {},
   "outputs": [
    {
     "name": "stdout",
     "output_type": "stream",
     "text": [
      "  0   0 \n",
      "  0   0 \n"
     ]
    }
   ],
   "source": [
    "def add_node(v):\n",
    "    global node_count\n",
    "    if v in nodes:\n",
    "        print(v, \"is already present in the nodes.\")\n",
    "    else:\n",
    "        node_count = node_count + 1\n",
    "        nodes.append(v)\n",
    "        for n in graph:\n",
    "            n.append(0)\n",
    "        temp = []\n",
    "        for i in range(node_count):\n",
    "            temp.append(0)\n",
    "        graph.append(temp)\n",
    "def print_graph():\n",
    "    for i in range(node_count):\n",
    "        for j in range(node_count):\n",
    "            print(format(graph[i][j], \"3\"), end = \" \")\n",
    "        print()\n",
    "        \n",
    "graph = []\n",
    "nodes = []\n",
    "node_count = 0\n",
    "add_node(\"A\")\n",
    "add_node(\"B\")\n",
    "\n",
    "print_graph()"
   ]
  },
  {
   "cell_type": "code",
   "execution_count": 24,
   "id": "1eea0157",
   "metadata": {},
   "outputs": [
    {
     "name": "stdout",
     "output_type": "stream",
     "text": [
      "0   10  4   \n",
      "0   0   0   \n",
      "0   0   0   \n"
     ]
    }
   ],
   "source": [
    "def add_node(v):\n",
    "    global node_count\n",
    "    if v in nodes:\n",
    "        print(\"Nodes already present in the graph\")\n",
    "    else:\n",
    "        node_count += 1\n",
    "        nodes.append(v)\n",
    "        for n in graph:\n",
    "            n.append(0)\n",
    "        temp = []\n",
    "        for i in range(node_count):\n",
    "            temp.append(0)\n",
    "        graph.append(temp)\n",
    "def add_edge(v1, v2, cost):\n",
    "    if v1 not in nodes:\n",
    "        print(v1, \"not present in the graph\")\n",
    "    elif v2 not in nodes:\n",
    "        print(v2, \"not present in the graph\")\n",
    "    else:\n",
    "        index1 = nodes.index(v1)\n",
    "        index2 = nodes.index(v2)\n",
    "        graph[index1][index2] = cost\n",
    "#         graph[index2][index1] = 1\n",
    "        \n",
    "def print_graph():\n",
    "    for i in range(node_count):\n",
    "        for j in range(node_count):\n",
    "            print(format(graph[i][j], \"<3\"), end = ' ')\n",
    "        print()\n",
    "    \n",
    "nodes = []\n",
    "graph = []\n",
    "node_count = 0\n",
    "\n",
    "add_node(\"A\")\n",
    "add_node(\"B\")\n",
    "add_node(\"C\")\n",
    "add_edge(\"A\", \"B\", 10)\n",
    "add_edge(\"A\", \"C\", 4)\n",
    "print_graph()\n"
   ]
  },
  {
   "cell_type": "code",
   "execution_count": null,
   "id": "ba954145",
   "metadata": {},
   "outputs": [],
   "source": []
  }
 ],
 "metadata": {
  "kernelspec": {
   "display_name": "Python 3 (ipykernel)",
   "language": "python",
   "name": "python3"
  },
  "language_info": {
   "codemirror_mode": {
    "name": "ipython",
    "version": 3
   },
   "file_extension": ".py",
   "mimetype": "text/x-python",
   "name": "python",
   "nbconvert_exporter": "python",
   "pygments_lexer": "ipython3",
   "version": "3.9.10"
  }
 },
 "nbformat": 4,
 "nbformat_minor": 5
}
