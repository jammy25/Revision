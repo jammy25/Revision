{
 "cells": [
  {
   "cell_type": "markdown",
   "id": "d111704d",
   "metadata": {},
   "source": [
    "## Adjacency Matrix"
   ]
  },
  {
   "cell_type": "code",
   "execution_count": 5,
   "id": "c1cdb134",
   "metadata": {},
   "outputs": [
    {
     "name": "stdout",
     "output_type": "stream",
     "text": [
      "  0   0 \n",
      "  0   0 \n"
     ]
    }
   ],
   "source": [
    "def add_node(v):\n",
    "    global node_count\n",
    "    if v in nodes:\n",
    "        print(v, \"is already present in the nodes.\")\n",
    "    else:\n",
    "        node_count = node_count + 1\n",
    "        nodes.append(v)\n",
    "        for n in graph:\n",
    "            n.append(0)\n",
    "        temp = []\n",
    "        for i in range(node_count):\n",
    "            temp.append(0)\n",
    "        graph.append(temp)\n",
    "def print_graph():\n",
    "    for i in range(node_count):\n",
    "        for j in range(node_count):\n",
    "            print(format(graph[i][j], \"3\"), end = \" \")\n",
    "        print()\n",
    "        \n",
    "graph = []\n",
    "nodes = []\n",
    "node_count = 0\n",
    "add_node(\"A\")\n",
    "add_node(\"B\")\n",
    "\n",
    "print_graph()"
   ]
  }
 ],
 "metadata": {
  "kernelspec": {
   "display_name": "Python 3 (ipykernel)",
   "language": "python",
   "name": "python3"
  },
  "language_info": {
   "codemirror_mode": {
    "name": "ipython",
    "version": 3
   },
   "file_extension": ".py",
   "mimetype": "text/x-python",
   "name": "python",
   "nbconvert_exporter": "python",
   "pygments_lexer": "ipython3",
   "version": "3.10.4"
  }
 },
 "nbformat": 4,
 "nbformat_minor": 5
}
